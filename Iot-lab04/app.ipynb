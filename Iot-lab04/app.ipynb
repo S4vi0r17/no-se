{
 "cells": [
  {
   "cell_type": "markdown",
   "id": "4d5d3b12",
   "metadata": {},
   "source": [
    "# Numpy Scipy"
   ]
  }
 ],
 "metadata": {
  "kernelspec": {
   "display_name": "Python 3",
   "language": "python",
   "name": "python3"
  },
  "language_info": {
   "name": "python",
   "version": "3.13.3"
  }
 },
 "nbformat": 4,
 "nbformat_minor": 5
}
