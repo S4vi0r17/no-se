{
 "cells": [
  {
   "cell_type": "markdown",
   "id": "4d5d3b12",
   "metadata": {},
   "source": [
    "# Numpy Scipy"
   ]
  },
  {
   "cell_type": "code",
   "execution_count": 1,
   "id": "f304df59",
   "metadata": {},
   "outputs": [],
   "source": [
    "import numpy as np"
   ]
  },
  {
   "cell_type": "markdown",
   "id": "9d8a8fc1",
   "metadata": {},
   "source": [
    "## Arrays\n",
    "Los arrays en NumPy son estructuras de datos similares a listas, pero permiten almacenar y manipular grandes cantidades de datos numéricos de manera eficiente. Un array de NumPy puede tener una o más dimensiones y soporta operaciones matemáticas vectorizadas.\n",
    "\n",
    "En el ejemplo:\n",
    "- `a = np.array([1, 2, 3])` crea un array de una dimensión con los valores `[1, 2, 3]`.\n",
    "- `a[0] = 5` modifica el primer elemento del array, cambiando su valor a 5, por lo que el array resultante es `[5, 2, 3]`.\n",
    "\n",
    "Los arrays permiten realizar operaciones rápidas y eficientes sobre grandes conjuntos de datos, lo que los hace ideales para cálculos científicos y análisis de datos.\n",
    "\n",
    "La salida muestra información sobre el array `a`:\n",
    "\n",
    "- `<class 'numpy.ndarray'>`: Indica que `a` es un array de NumPy.\n",
    "- `(3,)`: Es la forma (shape) del array, lo que significa que tiene 3 elementos en una sola dimensión.\n",
    "- `1 2 3`: Son los valores originales del array antes de modificar el primer elemento.\n",
    "- `[5 2 3]`: Es el array después de cambiar el primer elemento a 5."
   ]
  },
  {
   "cell_type": "code",
   "execution_count": 3,
   "id": "b12cf213",
   "metadata": {},
   "outputs": [
    {
     "name": "stdout",
     "output_type": "stream",
     "text": [
      "<class 'numpy.ndarray'> (3,) 1 2 3\n",
      "[5 2 3]\n"
     ]
    }
   ],
   "source": [
    "a = np.array([1, 2, 3]) # Create a rank1 array\n",
    "print(type(a), a.shape, a[0], a[1], a[2])\n",
    "a[0] = 5 # Change an element of the array\n",
    "print(a)"
   ]
  },
  {
   "cell_type": "code",
   "execution_count": null,
   "id": "6e242bec",
   "metadata": {},
   "outputs": [
    {
     "name": "stdout",
     "output_type": "stream",
     "text": [
      "[[1 2 3]\n",
      " [4 5 6]]\n"
     ]
    }
   ],
   "source": [
    "b = np.array([[1, 2, 3], [4, 5, 6]]) #Create a rank2 array\n",
    "print(b)"
   ]
  },
  {
   "cell_type": "code",
   "execution_count": 5,
   "id": "5f82435d",
   "metadata": {},
   "outputs": [
    {
     "name": "stdout",
     "output_type": "stream",
     "text": [
      "(2, 3)\n",
      "1 2 4\n"
     ]
    }
   ],
   "source": [
    "print(b.shape)\n",
    "print(b[0, 0], b[0, 1], b[1, 0])"
   ]
  },
  {
   "cell_type": "code",
   "execution_count": 6,
   "id": "c0f9d3ab",
   "metadata": {},
   "outputs": [
    {
     "name": "stdout",
     "output_type": "stream",
     "text": [
      "[[0. 0.]\n",
      " [0. 0.]]\n",
      "Array shape: (2, 2)\n"
     ]
    }
   ],
   "source": [
    "a = np.zeros((2, 2))  # Create an array of all zeros\n",
    "print(a)\n",
    "print(\"Array shape:\", a.shape)"
   ]
  },
  {
   "cell_type": "code",
   "execution_count": 7,
   "id": "9c769519",
   "metadata": {},
   "outputs": [
    {
     "name": "stdout",
     "output_type": "stream",
     "text": [
      "[[1. 1.]]\n",
      "Array shape: (1, 2)\n"
     ]
    }
   ],
   "source": [
    "b = np.ones((1, 2))  # Create an array of all ones\n",
    "print(b)\n",
    "print(\"Array shape:\", b.shape)"
   ]
  },
  {
   "cell_type": "code",
   "execution_count": 8,
   "id": "13833fdd",
   "metadata": {},
   "outputs": [
    {
     "name": "stdout",
     "output_type": "stream",
     "text": [
      "Array shape: (2, 2)\n",
      "[[7 7]\n",
      " [7 7]]\n"
     ]
    }
   ],
   "source": [
    "c = np.full((2, 2), 7)  # Create a constant array\n",
    "print(\"Array shape:\", c.shape)\n",
    "print(c)"
   ]
  },
  {
   "cell_type": "code",
   "execution_count": 9,
   "id": "57f09b38",
   "metadata": {},
   "outputs": [
    {
     "name": "stdout",
     "output_type": "stream",
     "text": [
      "Array shape: (2, 2)\n",
      "[[1. 0.]\n",
      " [0. 1.]]\n"
     ]
    }
   ],
   "source": [
    "d = np.eye(2)  # Create a 2x2 identity matrix\n",
    "print(\"Array shape:\", d.shape)\n",
    "print(d)"
   ]
  },
  {
   "cell_type": "code",
   "execution_count": 10,
   "id": "0bc70dce",
   "metadata": {},
   "outputs": [
    {
     "name": "stdout",
     "output_type": "stream",
     "text": [
      "[[0.94353661 0.47370134]\n",
      " [0.20733563 0.84032213]]\n",
      "Array shape: (2, 2)\n"
     ]
    }
   ],
   "source": [
    "e = np.random.random((2, 2))  # Create an array filled with random values\n",
    "print(e)\n",
    "print(\"Array shape:\", e.shape)"
   ]
  },
  {
   "cell_type": "markdown",
   "id": "53405167",
   "metadata": {},
   "source": [
    "## Tensores\n",
    "Los tensores son estructuras de datos multidimensionales que generalizan los conceptos de escalares (0 dimensiones), vectores (1 dimensión) y matrices (2 dimensiones) a cualquier número de dimensiones. En NumPy, un tensor se representa como un array de N dimensiones (`ndarray`). Los tensores permiten almacenar y manipular grandes volúmenes de datos en múltiples dimensiones, lo que es fundamental en áreas como el álgebra lineal, la computación científica y el aprendizaje profundo.\n",
    "\n",
    "Por ejemplo, el tensor `T` definido en este notebook es un array tridimensional de forma `(3, 3, 3)`, donde cada elemento puede accederse mediante tres índices: `T[i, j, k]`."
   ]
  },
  {
   "cell_type": "code",
   "execution_count": 11,
   "id": "affc2f55",
   "metadata": {},
   "outputs": [
    {
     "name": "stdout",
     "output_type": "stream",
     "text": [
      "(3, 3, 3)\n",
      "[[[ 1  2  3]\n",
      "  [ 4  5  6]\n",
      "  [ 7  8  9]]\n",
      "\n",
      " [[11 12 13]\n",
      "  [14 15 16]\n",
      "  [17 18 19]]\n",
      "\n",
      " [[21 22 23]\n",
      "  [24 25 26]\n",
      "  [27 28 29]]]\n"
     ]
    }
   ],
   "source": [
    "from numpy import array\n",
    "\n",
    "T = array([\n",
    "    [\n",
    "        [1, 2, 3],\n",
    "        [4, 5, 6],\n",
    "        [7, 8, 9]\n",
    "    ],\n",
    "    [\n",
    "        [11, 12, 13],\n",
    "        [14, 15, 16],\n",
    "        [17, 18, 19]\n",
    "    ],\n",
    "    [\n",
    "        [21, 22, 23],\n",
    "        [24, 25, 26],\n",
    "        [27, 28, 29]\n",
    "    ]\n",
    "])\n",
    "\n",
    "print(T.shape)\n",
    "print(T)"
   ]
  },
  {
   "cell_type": "code",
   "execution_count": 12,
   "id": "d286f334",
   "metadata": {},
   "outputs": [
    {
     "name": "stdout",
     "output_type": "stream",
     "text": [
      "[[[ 2  4  6]\n",
      "  [ 8 10 12]\n",
      "  [14 16 18]]\n",
      "\n",
      " [[22 24 26]\n",
      "  [28 30 32]\n",
      "  [34 36 38]]\n",
      "\n",
      " [[42 44 46]\n",
      "  [48 50 52]\n",
      "  [54 56 58]]]\n"
     ]
    }
   ],
   "source": [
    "# Suma de tensores\n",
    "A = T\n",
    "B = T\n",
    "C = A + B\n",
    "print(C)\n"
   ]
  },
  {
   "cell_type": "markdown",
   "id": "2a796d16",
   "metadata": {},
   "source": [
    "## Array indexing"
   ]
  },
  {
   "cell_type": "code",
   "execution_count": 15,
   "id": "c977b0c2",
   "metadata": {},
   "outputs": [
    {
     "name": "stdout",
     "output_type": "stream",
     "text": [
      "[[2 3]\n",
      " [6 7]]\n"
     ]
    }
   ],
   "source": [
    "# Crear un array de rango 2 con forma (3, 4)\n",
    "arr = np.array([\n",
    "    [1, 2, 3, 4],\n",
    "    [5, 6, 7, 8],\n",
    "    [9, 10, 11, 12]\n",
    "])\n",
    "\n",
    "# Usar slicing para extraer el subarray de las dos primeras filas y columnas 1 y 2\n",
    "# Resultado esperado:\n",
    "# [[2 3]\n",
    "#  [6 7]]\n",
    "subarr = arr[:2, 1:3]\n",
    "print(subarr)"
   ]
  },
  {
   "cell_type": "code",
   "execution_count": 17,
   "id": "12f7a984",
   "metadata": {},
   "outputs": [
    {
     "name": "stdout",
     "output_type": "stream",
     "text": [
      "2\n",
      "77\n"
     ]
    }
   ],
   "source": [
    "# Mostrar el valor original de a[0, 1]\n",
    "print(arr[0, 1])\n",
    "\n",
    "# Modificar el valor de b[0, 0]\n",
    "# Nota: En este caso, 'a' y 'b' NO comparten memoria, así que esto no afecta a 'a'\n",
    "subarr[0, 0] = 77\n",
    "\n",
    "# Mostrar nuevamente el valor de a[0, 1] para ver si cambió\n",
    "print(arr[0, 1])"
   ]
  },
  {
   "cell_type": "code",
   "execution_count": 19,
   "id": "841f2e43",
   "metadata": {},
   "outputs": [
    {
     "name": "stdout",
     "output_type": "stream",
     "text": [
      "[[ 1  2  3  4]\n",
      " [ 5  6  7  8]\n",
      " [ 9 10 11 12]]\n"
     ]
    }
   ],
   "source": [
    "# Crear un array de rango 2 con forma (3, 4)\n",
    "a = np.array([\n",
    "    [1, 2, 3, 4],\n",
    "    [5, 6, 7, 8],\n",
    "    [9, 10, 11, 12]\n",
    "])\n",
    "\n",
    "print(a)"
   ]
  },
  {
   "cell_type": "markdown",
   "id": "30a2b84b",
   "metadata": {},
   "source": [
    "### Selección de filas en arrays NumPy: diferencias entre rank 1 y rank 2\n",
    "\n",
    "En NumPy, la forma en que seleccionas filas de un array puede afectar la dimensionalidad (el \"rango\") del resultado:\n",
    "\n",
    "- `row_r1 = a[1, :]`: Selecciona la segunda fila de `a` como un array de una dimensión (rank 1).  \n",
    "    - Resultado: `array([5, 6, 7, 8])`\n",
    "    - Forma: `(4,)`\n",
    "\n",
    "- `row_r2 = a[1:2, :]`: Selecciona la segunda fila pero mantiene la dimensión de filas, devolviendo un array de dos dimensiones (rank 2) con una sola fila.  \n",
    "    - Resultado: `array([[5, 6, 7, 8]])`\n",
    "    - Forma: `(1, 4)`\n",
    "\n",
    "- `row_r3 = a[[1], :]`: Selecciona la segunda fila usando indexación avanzada, también devuelve un array de dos dimensiones (rank 2) con una sola fila.  \n",
    "    - Resultado: `array([[5, 6, 7, 8]])`\n",
    "    - Forma: `(1, 4)`\n",
    "\n",
    "**Resumen:**  \n",
    "- Usar `a[1, :]` da un vector 1D.\n",
    "- Usar `a[1:2, :]` o `a[[1], :]` da una matriz 2D con una sola fila.\n",
    "\n",
    "Esto es importante porque algunas operaciones de NumPy requieren arrays de cierta dimensionalidad."
   ]
  },
  {
   "cell_type": "code",
   "execution_count": 20,
   "id": "8a862191",
   "metadata": {},
   "outputs": [
    {
     "name": "stdout",
     "output_type": "stream",
     "text": [
      "[5 6 7 8] (4,)\n",
      "[[5 6 7 8]] (1, 4)\n",
      "[[5 6 7 8]] (1, 4)\n"
     ]
    }
   ],
   "source": [
    "row_r1 = a[1, :]        # Rank 1 view of the second row of a\n",
    "row_r2 = a[1:2, :]      # Rank 2 view of the second row of a\n",
    "row_r3 = a[[1], :]      # Rank 2 view of the second row of a\n",
    "\n",
    "print(row_r1, row_r1.shape)\n",
    "print(row_r2, row_r2.shape)\n",
    "print(row_r3, row_r3.shape)"
   ]
  },
  {
   "cell_type": "code",
   "execution_count": null,
   "id": "f80ef2ca",
   "metadata": {},
   "outputs": [
    {
     "name": "stdout",
     "output_type": "stream",
     "text": [
      "[ 2  6 10] (3,)\n",
      "\n",
      "[[ 2]\n",
      " [ 6]\n",
      " [10]] (3, 1)\n"
     ]
    }
   ],
   "source": [
    "# [[ 1  2  3  4]\n",
    "#  [ 5  6  7  8]\n",
    "#  [ 9 10 11 12]]\n",
    "\n",
    "# Podemos hacer la misma distinción al acceder a columnas de un array:\n",
    "col_r1 = a[:, 1]        # Rank 1: columna como vector 1D\n",
    "col_r2 = a[:, 1:2]      # Rank 2: columna como matriz 2D\n",
    "\n",
    "print(col_r1, col_r1.shape)\n",
    "print()\n",
    "print(col_r2, col_r2.shape)"
   ]
  },
  {
   "cell_type": "markdown",
   "id": "924a3e5a",
   "metadata": {},
   "source": [
    "## Indexación de arrays enteros:"
   ]
  },
  {
   "cell_type": "code",
   "execution_count": 22,
   "id": "3f256ee7",
   "metadata": {},
   "outputs": [
    {
     "name": "stdout",
     "output_type": "stream",
     "text": [
      "[1 4 5]\n",
      "[1 4 5]\n"
     ]
    }
   ],
   "source": [
    "# Creamos un array de ejemplo\n",
    "a = np.array([[1, 2],\n",
    "              [3, 4],\n",
    "              [5, 6]])\n",
    "\n",
    "# Ejemplo de indexación con arrays de enteros.\n",
    "# El array resultante tendrá forma (3,)\n",
    "indices_fila = [0, 1, 2]\n",
    "indices_columna = [0, 1, 0]\n",
    "resultado = a[indices_fila, indices_columna]\n",
    "print(resultado)  # [1 4 5]\n",
    "\n",
    "# El ejemplo anterior es equivalente a:\n",
    "equivalente = np.array([a[0, 0], a[1, 1], a[2, 0]])\n",
    "print(equivalente)  # [1 4 5]"
   ]
  },
  {
   "cell_type": "code",
   "execution_count": 23,
   "id": "5920b9fb",
   "metadata": {},
   "outputs": [
    {
     "name": "stdout",
     "output_type": "stream",
     "text": [
      "[2 2]\n",
      "[2 2]\n"
     ]
    }
   ],
   "source": [
    "# Ejemplo: reutilizar el mismo elemento usando indexación con arrays de enteros\n",
    "elementos_repetidos = a[[0, 0], [1, 1]]\n",
    "print(elementos_repetidos)  # Salida: [2 2]\n",
    "\n",
    "# Equivalente usando acceso directo a los elementos\n",
    "equivalente = np.array([a[0, 1], a[0, 1]])\n",
    "print(equivalente)  # Salida: [2 2]"
   ]
  },
  {
   "cell_type": "markdown",
   "id": "bb29f2cb",
   "metadata": {},
   "source": [
    "Un truco útil con la indexación de matrices de números enteros es seleccionar o mutar un elemento de cada fila de una matriz:"
   ]
  },
  {
   "cell_type": "code",
   "execution_count": 24,
   "id": "d6506f9f",
   "metadata": {},
   "outputs": [
    {
     "name": "stdout",
     "output_type": "stream",
     "text": [
      "[[ 1  2  3]\n",
      " [ 4  5  6]\n",
      " [ 7  8  9]\n",
      " [10 11 12]]\n"
     ]
    }
   ],
   "source": [
    "# Crear un nuevo array del cual seleccionaremos elementos\n",
    "a = np.array([\n",
    "    [1, 2, 3],\n",
    "    [4, 5, 6],\n",
    "    [7, 8, 9],\n",
    "    [10, 11, 12]\n",
    "])\n",
    "\n",
    "print(a)"
   ]
  },
  {
   "cell_type": "code",
   "execution_count": 25,
   "id": "11bf9b6c",
   "metadata": {},
   "outputs": [
    {
     "name": "stdout",
     "output_type": "stream",
     "text": [
      "[ 1  6  7 11]\n"
     ]
    }
   ],
   "source": [
    "# Crear un array de índices para seleccionar elementos de cada fila\n",
    "b = np.array([0, 2, 0, 1])\n",
    "\n",
    "# Seleccionar un elemento de cada fila de 'a' usando los índices en 'b'\n",
    "# np.arange(4) genera los índices de fila: [0, 1, 2, 3]\n",
    "# b indica la columna a seleccionar en cada fila\n",
    "seleccion = a[np.arange(4), b]\n",
    "\n",
    "print(seleccion)  # Imprime: [ 1  6  7 11]"
   ]
  },
  {
   "cell_type": "code",
   "execution_count": 26,
   "id": "0b544124",
   "metadata": {},
   "outputs": [
    {
     "name": "stdout",
     "output_type": "stream",
     "text": [
      "[[11  2  3]\n",
      " [ 4  5 16]\n",
      " [17  8  9]\n",
      " [10 21 12]]\n"
     ]
    }
   ],
   "source": [
    "# Mutar un elemento de cada fila de 'a' usando los índices en 'b'\n",
    "# np.arange(4) genera los índices de fila: [0, 1, 2, 3]\n",
    "# b indica la columna a modificar en cada fila\n",
    "\n",
    "a[np.arange(4), b] += 10\n",
    "\n",
    "print(a)"
   ]
  },
  {
   "cell_type": "markdown",
   "id": "7d91cd30",
   "metadata": {},
   "source": [
    "## Indexación booleana de matrices\n",
    "La indexación booleana de matrices permite seleccionar elementos arbitrarios de una matriz. Con frecuencia, este tipo de indexación se utiliza para seleccionar los elementos de una matriz que satisfacen alguna condición. He aquí un ejemplo:"
   ]
  },
  {
   "cell_type": "code",
   "execution_count": 29,
   "id": "0f2ebe01",
   "metadata": {},
   "outputs": [
    {
     "name": "stdout",
     "output_type": "stream",
     "text": [
      "[[False False]\n",
      " [ True  True]\n",
      " [ True  True]]\n"
     ]
    }
   ],
   "source": [
    "a = np.array([\n",
    "    [1, 2],\n",
    "    [3, 4],\n",
    "    [5, 6]\n",
    "])\n",
    "\n",
    "# Creamos una máscara booleana para encontrar los elementos de 'a' mayores que 2\n",
    "bool_idx = (a > 2)\n",
    "\n",
    "# Mostramos la máscara booleana resultante\n",
    "print(bool_idx)"
   ]
  },
  {
   "cell_type": "code",
   "execution_count": 30,
   "id": "ee2f6905",
   "metadata": {},
   "outputs": [
    {
     "name": "stdout",
     "output_type": "stream",
     "text": [
      "[3 4 5 6]\n",
      "[3 4 5 6]\n"
     ]
    }
   ],
   "source": [
    "# Usamos indexación booleana para construir un array de una dimensión\n",
    "# con los elementos de 'a' que corresponden a los valores True de 'bool_idx'\n",
    "elementos_filtrados = a[bool_idx]\n",
    "print(elementos_filtrados)\n",
    "\n",
    "# También podemos hacer todo en una sola línea:\n",
    "print(a[a > 2])"
   ]
  }
 ],
 "metadata": {
  "kernelspec": {
   "display_name": "Python 3",
   "language": "python",
   "name": "python3"
  },
  "language_info": {
   "codemirror_mode": {
    "name": "ipython",
    "version": 3
   },
   "file_extension": ".py",
   "mimetype": "text/x-python",
   "name": "python",
   "nbconvert_exporter": "python",
   "pygments_lexer": "ipython3",
   "version": "3.13.3"
  }
 },
 "nbformat": 4,
 "nbformat_minor": 5
}
