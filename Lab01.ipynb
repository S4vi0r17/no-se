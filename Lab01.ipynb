{
 "cells": [
  {
   "cell_type": "markdown",
   "metadata": {},
   "source": [
    "# Práctica Guiada de Laboratorio 1 - Inteligencia Artificial (Grupo 3 - EPIS) 2025-1"
   ]
  },
  {
   "cell_type": "markdown",
   "metadata": {},
   "source": [
    "## Introducción\n",
    "En las sesiones de laboratorio del curso se utilizará el lenguaje de programación de libre distribución denominado Python junto con sus bibliotecas tales como NumPy, Matplotlib, Pandas, entre otras. \n",
    "En la sesión del 24 de Marzo del 2025 se usará únicamente el core del lenguaje Python. Posteriormente se usarán las bibliotecas llamada Numpy y Matplotlib, las cuales en conjunto replican en buena medida las capacidades de procesamiento de matrices de la conocida plataforma computacional Matlab.  \n",
    "\n",
    "En esta práctica, inicialmente se describirá sucintamente la instalación de la distribución llamada Anaconda, visando el uso de su componente llamado Jupyter Notebook (este documento), luego se presentarán los fundamentos del lenguaje a través de varios cuadernos computacionales. Finalmente, se plantearán varios ejercicios a fin de corroborar el aprendizaje de los conceptos básicos del lenguaje. "
   ]
  },
  {
   "cell_type": "markdown",
   "metadata": {},
   "source": [
    "## Instalación de Python y la distribución Anaconda\n",
    "Con la finalidad de instalar Python se debe descargar el instalador de la distribución Anaconda. Para ello dar clic en botón: [Download](https://www.anaconda.com/products/distribution) ; luego dar clic en el enlace \"64-Bit Graphical Installer (912.3M)\" (Python 3.12) correspondiente al sistema operativo Windows (caso se use otro sistema operativo, dar clic en el link correspondiente); descargará el instalador. \n",
    "\n",
    "Luego, seguir el procedimiento rutinario de instalación de programas bajo la plataforma Windows.\n",
    "Siga las instrucciones que aparecen en pantalla durante la instalación, seleccionando los valores por defecto cuando sea \n",
    "requerido; tener cuidado de verificar la casilla 'Add Anaconda to my PATH environment variable'.\n",
    "\n",
    "Desde Anaconda Navigator, donde se pueden lanzar las apps: Spyder, Jupyter Notebook, Jupyter QTConsole e IPython, lanzar el \n",
    "Jupyter Notebook dando clic en el icono 'Launch' respectivo.\n"
   ]
  },
  {
   "cell_type": "markdown",
   "metadata": {},
   "source": [
    "##  Python\n",
    "### Fundamentos del lenguaje\n",
    "Revisar en el mismo orden los cuadernos computacionales denominados Leccion 1, Leccion 2, Leccion 3, Leccion 4 y Leccion 5."
   ]
  },
  {
   "cell_type": "markdown",
   "metadata": {},
   "source": [
    "## Ejercicios\n",
    "Resolver los ejercicios planteados en el cuaderrno computacional respectivo. Las respectivas soluciones se registrarán en el mismo cuaderno"
   ]
  },
  {
   "cell_type": "markdown",
   "metadata": {},
   "source": [
    "**1) Identifica el tipo de dato (int, float, string o list) de los siguientes valores literales**\n",
    "```python\n",
    "\"Hola Mundo\" \n",
    "[1, 10, 100]\n",
    "-25          \n",
    "1.167       \n",
    "[\"Hola\", \"Mundo\"]  \n",
    "' '        \n",
    "```"
   ]
  },
  {
   "cell_type": "code",
   "execution_count": 21,
   "metadata": {},
   "outputs": [
    {
     "name": "stdout",
     "output_type": "stream",
     "text": [
      "<class 'str'>\n",
      "<class 'list'>\n",
      "<class 'int'>\n",
      "<class 'float'>\n",
      "<class 'list'>\n",
      "<class 'str'>\n"
     ]
    }
   ],
   "source": [
    "print(type(\"Hola Mundo\"))\n",
    "print(type([1, 10, 100]))\n",
    "print(type(-25))\n",
    "print(type(1.167))\n",
    "print(type([\"Hola\", \"Mundo\"]))\n",
    "print(type(' '))"
   ]
  },
  {
   "cell_type": "markdown",
   "metadata": {},
   "source": [
    "**2) Determina mentalmente (sin programar) el resultado que aparecerá por pantalla a partir de las siguientes variables:**\n",
    "```python\n",
    "a = 10\n",
    "b = -5\n",
    "c = \"Hola \"\n",
    "d = [1, 2, 3]\n",
    "```\n",
    "```python\n",
    "print(a * 5) # 50\n",
    "print(a - b) # 15\n",
    "print(c + \"Mundo\") # Hola Mundo\n",
    "print(c * 2) # Hola Hola \n",
    "print(c[-1]) # \" \"\n",
    "print(c[1:]) # ola\n",
    "print(d + d) # [1, 2, 3, 1, 2, 3]\n",
    "```"
   ]
  },
  {
   "cell_type": "code",
   "execution_count": 27,
   "metadata": {},
   "outputs": [
    {
     "name": "stdout",
     "output_type": "stream",
     "text": [
      "50\n",
      "15\n",
      "Hola Mundo\n",
      "Hola Hola \n",
      " \n",
      "ola \n",
      "[1, 2, 3, 1, 2, 3]\n"
     ]
    }
   ],
   "source": [
    "a = 10\n",
    "b = -5\n",
    "c = \"Hola \"\n",
    "d = [1, 2, 3]\n",
    "\n",
    "print(a * 5)  \n",
    "print(a - b)    \n",
    "print(c + \"Mundo\")   \n",
    "print(c * 2)        \n",
    "print(c[-1])        \n",
    "print(c[1:])    \n",
    "print(d + d)"
   ]
  },
  {
   "cell_type": "markdown",
   "metadata": {},
   "source": [
    "**3) El siguiente código pretende realizar una media entre 3 números, pero no funciona correctamente. ¿Eres capaz de identificar el problema y solucionarlo?**"
   ]
  },
  {
   "cell_type": "code",
   "execution_count": 29,
   "metadata": {},
   "outputs": [
    {
     "name": "stdout",
     "output_type": "stream",
     "text": [
      "La nota media es 6.0\n"
     ]
    }
   ],
   "source": [
    "numero_1 = 9\n",
    "numero_2 = 3\n",
    "numero_3 = 6\n",
    "\n",
    "# media = numero_1 + numero_2 + numero_3 / 3\n",
    "media = (numero_1 + numero_2 + numero_3) / 3\n",
    "print(\"La nota media es\", media)"
   ]
  },
  {
   "cell_type": "markdown",
   "metadata": {},
   "source": [
    "**4) A partir del ejercicio anterior, vamos a suponer que cada número es una nota, y lo que queremos es obtener la nota media. El problema es que cada nota tiene un valor porcentual:**\n",
    "\n",
    "* La primera nota vale un 15% del total\n",
    "* La segunda nota vale un 35% del total\n",
    "* La tercera nota vale un 50% del total\n",
    "\n",
    "**Desarrolle un programa para calcular perfectamente la nota final.**"
   ]
  },
  {
   "cell_type": "code",
   "execution_count": 31,
   "metadata": {},
   "outputs": [
    {
     "name": "stdout",
     "output_type": "stream",
     "text": [
      "La nota media es 5.949999999999999\n"
     ]
    }
   ],
   "source": [
    "nota_1 = 10\n",
    "nota_2 = 7\n",
    "nota_3 = 4\n",
    "\n",
    "# Completa el ejercicio aquí\n",
    "media = (nota_1 * 0.15 + nota_2 * 0.35 + nota_3 * 0.50) / (0.15 + 0.35 + 0.50)\n",
    "print(\"La nota media es\", media)"
   ]
  },
  {
   "cell_type": "markdown",
   "metadata": {},
   "source": [
    "**5) La siguiente matriz (o lista con listas anidadas) debe cumplir una condición, y es que en cada fila, el cuarto elemento siempre debe ser el resultado de sumar los tres primeros. Modifique las sumas incorrectas utilizando la técnica del slicing?**\n",
    "\n",
    "*Ayuda: La función llamada sum(lista) devuelve una suma de todos los elementos de la lista ¡Pruébalo!*"
   ]
  },
  {
   "cell_type": "code",
   "execution_count": null,
   "metadata": {},
   "outputs": [
    {
     "name": "stdout",
     "output_type": "stream",
     "text": [
      "[[1, 1, 1, 3], [2, 2, 2, 6], [3, 3, 3, 9], [4, 4, 4, 12]]\n"
     ]
    }
   ],
   "source": [
    "matriz = [ \n",
    "    [1, 1, 1, 3],\n",
    "    [2, 2, 2, 7],\n",
    "    [3, 3, 3, 9],\n",
    "    [4, 4, 4, 13]\n",
    "]\n",
    "\n",
    "# Completa el ejercicio aquí\n",
    "for fila in matriz:\n",
    "    fila[3] = sum(fila[:3])\n",
    "\n",
    "print(matriz)"
   ]
  },
  {
   "cell_type": "markdown",
   "metadata": {},
   "source": [
    "**7) Realiza un programa que lea dos números por teclado y permita elegir entre 3 opciones en un menú:** \n",
    "* Mostrar una suma de los dos números\n",
    "* Mostrar una resta de los dos números (el primero menos el segundo)\n",
    "* Mostrar una multiplicación de los dos números\n",
    "* En caso de no introducir una opción válida, el programa informará de que no es correcta."
   ]
  },
  {
   "cell_type": "code",
   "execution_count": 35,
   "metadata": {},
   "outputs": [
    {
     "name": "stdout",
     "output_type": "stream",
     "text": [
      "\n",
      "    1. Mostrar una suma de dos números\n",
      "    2. Mostrar una resta de dos números\n",
      "    3. Mostrar una multiplicación de dos números\n",
      "\n",
      "La suma es: 4\n",
      "La multiplicación es: 4\n"
     ]
    }
   ],
   "source": [
    "# Completa el ejercicio aquí\n",
    "menu = \"\"\"\n",
    "    1. Mostrar una suma de dos números\n",
    "    2. Mostrar una resta de dos números\n",
    "    3. Mostrar una multiplicación de dos números\n",
    "\"\"\"\n",
    "print(menu)\n",
    "while True:\n",
    "    opcion = int(input(\"Elige una opción: \"))\n",
    "    if opcion == 1:\n",
    "        a = int(input(\"Introduce el primer número: \"))\n",
    "        b = int(input(\"Introduce el segundo número: \"))\n",
    "        print(\"La suma es:\", a + b)\n",
    "    elif opcion == 2:\n",
    "        a = int(input(\"Introduce el primer número: \"))\n",
    "        b = int(input(\"Introduce el segundo número: \"))\n",
    "        print(\"La resta es:\", a - b)\n",
    "    elif opcion == 3:\n",
    "        a = int(input(\"Introduce el primer número: \"))\n",
    "        b = int(input(\"Introduce el segundo número: \"))\n",
    "        print(\"La multiplicación es:\", a * b)\n",
    "    else:\n",
    "        print(\"Opción no válida\")\n",
    "    \n",
    "    continuar = input(\"¿Quieres continuar? (s/n): \")\n",
    "    if continuar.lower() != 's':\n",
    "        break\n"
   ]
  },
  {
   "cell_type": "markdown",
   "metadata": {},
   "source": [
    "**8) Realiza un programa que sume todos los números enteros pares desde el 0 hasta el 100:**\n",
    "\n",
    "*Sugerencia: Puedes utilizar la funciones sum() y range() para hacerlo más fácil. El tercer parámetro en la función range(inicio, fin, salto) indica un salto de números, pruébalo.*"
   ]
  },
  {
   "cell_type": "code",
   "execution_count": 36,
   "metadata": {},
   "outputs": [
    {
     "name": "stdout",
     "output_type": "stream",
     "text": [
      "2550\n",
      "2550\n"
     ]
    }
   ],
   "source": [
    "# Completa el ejercicio aquí\n",
    "suma = sum(range(0, 101, 2))\n",
    "print(suma)\n",
    "\n",
    "suma2 = 0\n",
    "for i in range(0, 101, 2):\n",
    "    suma2 += i\n",
    "\n",
    "print(suma2)"
   ]
  },
  {
   "cell_type": "markdown",
   "metadata": {},
   "source": [
    "## Instrucciones para el envío de la solución\n",
    "La solución de la \"Práctica Guiada de Laboratorio 1 - IA G3\" podrá enviarse opcionalmente al correo electrónico \"rmaguinap@unmsm.edu.pe\", hasta las 11:59 h del Viernes 27 de Marzo del 2025, en un archivo con extensión .ipynb. \n",
    "\n",
    "El documento deberá tener las sgtes características:\n",
    "- Nombre del archivo: solPGL1_IA-2025-1_G3_nombre-apellidos.ipynb.\n",
    "- Todas las preguntas de la Práctica deben responderse en este mismo cuaderno computacional interactivo (**Sugerencia**: obtener una copia de este documento y desarrollar en ellas las respectivas soluciones); la solución a cada pregunta debe registrarse en una celda debajo del planteamiento de la misma, mencionando explícitamente como subtítulo: \"Solución del ejercicio n\", donde \"n\" corresponde al número del ejercicio."
   ]
  }
 ],
 "metadata": {
  "kernelspec": {
   "display_name": "anaconda3",
   "language": "python",
   "name": "python3"
  },
  "language_info": {
   "codemirror_mode": {
    "name": "ipython",
    "version": 3
   },
   "file_extension": ".py",
   "mimetype": "text/x-python",
   "name": "python",
   "nbconvert_exporter": "python",
   "pygments_lexer": "ipython3",
   "version": "3.12.7"
  }
 },
 "nbformat": 4,
 "nbformat_minor": 4
}
