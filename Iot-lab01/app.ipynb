{
 "cells": [
  {
   "cell_type": "code",
   "execution_count": 5,
   "id": "44e823d9",
   "metadata": {},
   "outputs": [
    {
     "name": "stdout",
     "output_type": "stream",
     "text": [
      "Defaulting to user installation because normal site-packages is not writeable\n",
      "Requirement already satisfied: matplotlib in c:\\users\\gbp17\\appdata\\local\\packages\\pythonsoftwarefoundation.python.3.13_qbz5n2kfra8p0\\localcache\\local-packages\\python313\\site-packages (3.10.1)\n",
      "Requirement already satisfied: numpy in c:\\users\\gbp17\\appdata\\local\\packages\\pythonsoftwarefoundation.python.3.13_qbz5n2kfra8p0\\localcache\\local-packages\\python313\\site-packages (2.2.1)\n",
      "Requirement already satisfied: pandas in c:\\users\\gbp17\\appdata\\local\\packages\\pythonsoftwarefoundation.python.3.13_qbz5n2kfra8p0\\localcache\\local-packages\\python313\\site-packages (2.2.3)\n",
      "Requirement already satisfied: contourpy>=1.0.1 in c:\\users\\gbp17\\appdata\\local\\packages\\pythonsoftwarefoundation.python.3.13_qbz5n2kfra8p0\\localcache\\local-packages\\python313\\site-packages (from matplotlib) (1.3.1)\n",
      "Requirement already satisfied: cycler>=0.10 in c:\\users\\gbp17\\appdata\\local\\packages\\pythonsoftwarefoundation.python.3.13_qbz5n2kfra8p0\\localcache\\local-packages\\python313\\site-packages (from matplotlib) (0.12.1)\n",
      "Requirement already satisfied: fonttools>=4.22.0 in c:\\users\\gbp17\\appdata\\local\\packages\\pythonsoftwarefoundation.python.3.13_qbz5n2kfra8p0\\localcache\\local-packages\\python313\\site-packages (from matplotlib) (4.57.0)\n",
      "Requirement already satisfied: kiwisolver>=1.3.1 in c:\\users\\gbp17\\appdata\\local\\packages\\pythonsoftwarefoundation.python.3.13_qbz5n2kfra8p0\\localcache\\local-packages\\python313\\site-packages (from matplotlib) (1.4.8)\n",
      "Requirement already satisfied: packaging>=20.0 in c:\\users\\gbp17\\appdata\\local\\packages\\pythonsoftwarefoundation.python.3.13_qbz5n2kfra8p0\\localcache\\local-packages\\python313\\site-packages (from matplotlib) (24.2)\n",
      "Requirement already satisfied: pillow>=8 in c:\\users\\gbp17\\appdata\\local\\packages\\pythonsoftwarefoundation.python.3.13_qbz5n2kfra8p0\\localcache\\local-packages\\python313\\site-packages (from matplotlib) (11.1.0)\n",
      "Requirement already satisfied: pyparsing>=2.3.1 in c:\\users\\gbp17\\appdata\\local\\packages\\pythonsoftwarefoundation.python.3.13_qbz5n2kfra8p0\\localcache\\local-packages\\python313\\site-packages (from matplotlib) (3.2.3)\n",
      "Requirement already satisfied: python-dateutil>=2.7 in c:\\users\\gbp17\\appdata\\local\\packages\\pythonsoftwarefoundation.python.3.13_qbz5n2kfra8p0\\localcache\\local-packages\\python313\\site-packages (from matplotlib) (2.9.0.post0)\n",
      "Requirement already satisfied: pytz>=2020.1 in c:\\users\\gbp17\\appdata\\local\\packages\\pythonsoftwarefoundation.python.3.13_qbz5n2kfra8p0\\localcache\\local-packages\\python313\\site-packages (from pandas) (2024.2)\n",
      "Requirement already satisfied: tzdata>=2022.7 in c:\\users\\gbp17\\appdata\\local\\packages\\pythonsoftwarefoundation.python.3.13_qbz5n2kfra8p0\\localcache\\local-packages\\python313\\site-packages (from pandas) (2024.2)\n",
      "Requirement already satisfied: six>=1.5 in c:\\users\\gbp17\\appdata\\local\\packages\\pythonsoftwarefoundation.python.3.13_qbz5n2kfra8p0\\localcache\\local-packages\\python313\\site-packages (from python-dateutil>=2.7->matplotlib) (1.17.0)\n",
      "Note: you may need to restart the kernel to use updated packages.\n"
     ]
    },
    {
     "name": "stderr",
     "output_type": "stream",
     "text": [
      "\n",
      "[notice] A new release of pip is available: 24.3.1 -> 25.0.1\n",
      "[notice] To update, run: C:\\Users\\GBP17\\AppData\\Local\\Microsoft\\WindowsApps\\PythonSoftwareFoundation.Python.3.13_qbz5n2kfra8p0\\python.exe -m pip install --upgrade pip\n"
     ]
    }
   ],
   "source": [
    "%pip install matplotlib numpy pandas"
   ]
  },
  {
   "cell_type": "code",
   "execution_count": 6,
   "id": "0e1453b1",
   "metadata": {},
   "outputs": [],
   "source": [
    "import pandas as pd\n",
    "import numpy as np\n",
    "import matplotlib.pylab as plt"
   ]
  },
  {
   "cell_type": "code",
   "execution_count": 18,
   "id": "af4e5a16",
   "metadata": {},
   "outputs": [],
   "source": [
    "plt.ion()  # Enables interactive mode for matplotlib\n",
    "plt.style.use('seaborn-v0_8-whitegrid')\n",
    "plt.rc('text', usetex=False)\n",
    "plt.rc('font', family='sans-serif')\n",
    "plt.rc('xtick', labelsize=10)\n",
    "plt.rc('ytick', labelsize=10)\n",
    "plt.rc('font', size=12)"
   ]
  },
  {
   "cell_type": "markdown",
   "id": "c9d67d51",
   "metadata": {},
   "source": [
    "### Funciones y Argumentos Clave\n",
    "\n",
    "#### `pd.read_csv(filepath_or_buffer, **kwargs)`\n",
    "Lee un archivo de valores separados por comas (CSV) en un DataFrame. Los argumentos comunes incluyen:\n",
    "\n",
    "- **`filepath_or_buffer`**: La ruta al archivo CSV (por ejemplo, `'educ_figdp_1_Data.csv'`).\n",
    "- **`sep`**: El delimitador a usar (por defecto es `','`).\n",
    "- **`na_values`**: Cadenas adicionales para reconocer como NA/NaN (por ejemplo, `na_values=':'`).\n",
    "- **`usecols`**: Una lista de nombres de columnas a leer (por ejemplo, `usecols=['TIME', 'GEO', 'Value']`).\n",
    "- **`dtype`**: Tipo de dato para los datos o columnas (por ejemplo, `dtype={'Value': float}`).\n",
    "- **`header`**: Número(s) de fila(s) a usar como nombres de columna (por defecto es `0`).\n",
    "- **`index_col`**: Columna(s) a establecer como índice (por defecto es `None`).\n",
    "- **`skiprows`**: Números de línea a omitir al inicio del archivo (por defecto es `None`).\n",
    "- **`nrows`**: Número de filas a leer (por defecto es `None`).\n",
    "- **`encoding`**: Codificación a usar para UTF al leer (por ejemplo, `encoding='utf-8'`)."
   ]
  },
  {
   "cell_type": "code",
   "execution_count": 8,
   "id": "7480a927",
   "metadata": {},
   "outputs": [
    {
     "name": "stdout",
     "output_type": "stream",
     "text": [
      "   TIME                            GEO  Value\n",
      "0  2000  European Union (28 countries)    NaN\n",
      "1  2001  European Union (28 countries)    NaN\n",
      "2  2002  European Union (28 countries)   5.00\n",
      "3  2003  European Union (28 countries)   5.03\n",
      "4  2004  European Union (28 countries)   4.95\n"
     ]
    }
   ],
   "source": [
    "ruta = 'educ_figdp_1_Data.csv'\n",
    "edu = pd.read_csv(ruta, na_values=':', usecols=['TIME', 'GEO', 'Value'])\n",
    "print(edu.head())"
   ]
  },
  {
   "cell_type": "markdown",
   "id": "adbb41cd",
   "metadata": {},
   "source": [
    "### Propiedades útiles de un DataFrame en pandas\n",
    "\n",
    "#### `edu.columns`\n",
    "Devuelve las etiquetas de las columnas del DataFrame como un objeto `Index`. Esto es útil para inspeccionar o modificar los nombres de las columnas.\n",
    "\n",
    "#### `edu.index`\n",
    "Devuelve las etiquetas de los índices (filas) del DataFrame como un objeto `Index`. Esto permite ver o modificar cómo se identifican las filas.\n",
    "\n",
    "#### `edu.dtypes`\n",
    "Devuelve los tipos de datos de cada columna del DataFrame como un objeto `Series`. Esto es útil para entender qué tipo de datos contiene cada columna (por ejemplo, `int64`, `float64`, `object`, etc.)."
   ]
  },
  {
   "cell_type": "code",
   "execution_count": 7,
   "id": "df3e2ca3",
   "metadata": {},
   "outputs": [
    {
     "name": "stdout",
     "output_type": "stream",
     "text": [
      "Index(['TIME', 'GEO', 'Value'], dtype='object')\n",
      "RangeIndex(start=0, stop=384, step=1)\n",
      "TIME       int64\n",
      "GEO       object\n",
      "Value    float64\n",
      "dtype: object\n"
     ]
    }
   ],
   "source": [
    "print(edu.columns)\n",
    "print(edu.index)\n",
    "print(edu.dtypes)"
   ]
  },
  {
   "cell_type": "markdown",
   "id": "d8349ed2",
   "metadata": {},
   "source": [
    "#### `edu.describe()`\n",
    "Este método genera estadísticas descriptivas para las columnas numéricas del DataFrame `edu`. Proporciona información como:\n",
    "\n",
    "- **`count`**: Número de valores no nulos.\n",
    "- **`mean`**: Promedio de los valores.\n",
    "- **`std`**: Desviación estándar.\n",
    "- **`min`**: Valor mínimo.\n",
    "- **`25%`**, **`50%`**, **`75%`**: Percentiles (cuartiles).\n",
    "- **`max`**: Valor máximo.\n",
    "\n",
    "Esto es útil para obtener una visión general de los datos numéricos en el DataFrame."
   ]
  },
  {
   "cell_type": "code",
   "execution_count": 8,
   "id": "08fb5d18",
   "metadata": {},
   "outputs": [
    {
     "data": {
      "text/html": [
       "<div>\n",
       "<style scoped>\n",
       "    .dataframe tbody tr th:only-of-type {\n",
       "        vertical-align: middle;\n",
       "    }\n",
       "\n",
       "    .dataframe tbody tr th {\n",
       "        vertical-align: top;\n",
       "    }\n",
       "\n",
       "    .dataframe thead th {\n",
       "        text-align: right;\n",
       "    }\n",
       "</style>\n",
       "<table border=\"1\" class=\"dataframe\">\n",
       "  <thead>\n",
       "    <tr style=\"text-align: right;\">\n",
       "      <th></th>\n",
       "      <th>TIME</th>\n",
       "      <th>Value</th>\n",
       "    </tr>\n",
       "  </thead>\n",
       "  <tbody>\n",
       "    <tr>\n",
       "      <th>count</th>\n",
       "      <td>384.000000</td>\n",
       "      <td>361.000000</td>\n",
       "    </tr>\n",
       "    <tr>\n",
       "      <th>mean</th>\n",
       "      <td>2005.500000</td>\n",
       "      <td>5.203989</td>\n",
       "    </tr>\n",
       "    <tr>\n",
       "      <th>std</th>\n",
       "      <td>3.456556</td>\n",
       "      <td>1.021694</td>\n",
       "    </tr>\n",
       "    <tr>\n",
       "      <th>min</th>\n",
       "      <td>2000.000000</td>\n",
       "      <td>2.880000</td>\n",
       "    </tr>\n",
       "    <tr>\n",
       "      <th>25%</th>\n",
       "      <td>2002.750000</td>\n",
       "      <td>4.620000</td>\n",
       "    </tr>\n",
       "    <tr>\n",
       "      <th>50%</th>\n",
       "      <td>2005.500000</td>\n",
       "      <td>5.060000</td>\n",
       "    </tr>\n",
       "    <tr>\n",
       "      <th>75%</th>\n",
       "      <td>2008.250000</td>\n",
       "      <td>5.660000</td>\n",
       "    </tr>\n",
       "    <tr>\n",
       "      <th>max</th>\n",
       "      <td>2011.000000</td>\n",
       "      <td>8.810000</td>\n",
       "    </tr>\n",
       "  </tbody>\n",
       "</table>\n",
       "</div>"
      ],
      "text/plain": [
       "              TIME       Value\n",
       "count   384.000000  361.000000\n",
       "mean   2005.500000    5.203989\n",
       "std       3.456556    1.021694\n",
       "min    2000.000000    2.880000\n",
       "25%    2002.750000    4.620000\n",
       "50%    2005.500000    5.060000\n",
       "75%    2008.250000    5.660000\n",
       "max    2011.000000    8.810000"
      ]
     },
     "execution_count": 8,
     "metadata": {},
     "output_type": "execute_result"
    }
   ],
   "source": [
    "edu.describe()"
   ]
  },
  {
   "cell_type": "markdown",
   "id": "ae339caa",
   "metadata": {},
   "source": [
    "### Exploración de la columna `Value` del DataFrame `edu`\n",
    "\n",
    "En esta celda, se accede a la columna `Value` del DataFrame `edu`. Esto devuelve una Serie de pandas que contiene los valores de la columna `Value`. Es útil para realizar análisis específicos sobre esta columna, como calcular estadísticas, filtrar valores o visualizar los datos.\n",
    "\n",
    "#### Ejemplo de salida:\n",
    "La columna `Value` contiene datos numéricos (tipo `float64`) que representan valores asociados a cada combinación de `TIME` y `GEO`. Algunos valores pueden ser `NaN` debido a datos faltantes."
   ]
  },
  {
   "cell_type": "code",
   "execution_count": 10,
   "id": "2335b857",
   "metadata": {},
   "outputs": [
    {
     "data": {
      "text/plain": [
       "0       NaN\n",
       "1       NaN\n",
       "2      5.00\n",
       "3      5.03\n",
       "4      4.95\n",
       "       ... \n",
       "379    5.90\n",
       "380    6.10\n",
       "381    6.81\n",
       "382    6.85\n",
       "383    6.76\n",
       "Name: Value, Length: 384, dtype: float64"
      ]
     },
     "execution_count": 10,
     "metadata": {},
     "output_type": "execute_result"
    }
   ],
   "source": [
    "edu['Value']"
   ]
  },
  {
   "cell_type": "code",
   "execution_count": 12,
   "id": "55e2b2c1",
   "metadata": {},
   "outputs": [
    {
     "data": {
      "text/html": [
       "<div>\n",
       "<style scoped>\n",
       "    .dataframe tbody tr th:only-of-type {\n",
       "        vertical-align: middle;\n",
       "    }\n",
       "\n",
       "    .dataframe tbody tr th {\n",
       "        vertical-align: top;\n",
       "    }\n",
       "\n",
       "    .dataframe thead th {\n",
       "        text-align: right;\n",
       "    }\n",
       "</style>\n",
       "<table border=\"1\" class=\"dataframe\">\n",
       "  <thead>\n",
       "    <tr style=\"text-align: right;\">\n",
       "      <th></th>\n",
       "      <th>TIME</th>\n",
       "      <th>GEO</th>\n",
       "      <th>Value</th>\n",
       "    </tr>\n",
       "  </thead>\n",
       "  <tbody>\n",
       "    <tr>\n",
       "      <th>10</th>\n",
       "      <td>2010</td>\n",
       "      <td>European Union (28 countries)</td>\n",
       "      <td>5.41</td>\n",
       "    </tr>\n",
       "    <tr>\n",
       "      <th>11</th>\n",
       "      <td>2011</td>\n",
       "      <td>European Union (28 countries)</td>\n",
       "      <td>5.25</td>\n",
       "    </tr>\n",
       "    <tr>\n",
       "      <th>12</th>\n",
       "      <td>2000</td>\n",
       "      <td>European Union (27 countries)</td>\n",
       "      <td>4.91</td>\n",
       "    </tr>\n",
       "    <tr>\n",
       "      <th>13</th>\n",
       "      <td>2001</td>\n",
       "      <td>European Union (27 countries)</td>\n",
       "      <td>4.99</td>\n",
       "    </tr>\n",
       "  </tbody>\n",
       "</table>\n",
       "</div>"
      ],
      "text/plain": [
       "    TIME                            GEO  Value\n",
       "10  2010  European Union (28 countries)   5.41\n",
       "11  2011  European Union (28 countries)   5.25\n",
       "12  2000  European Union (27 countries)   4.91\n",
       "13  2001  European Union (27 countries)   4.99"
      ]
     },
     "execution_count": 12,
     "metadata": {},
     "output_type": "execute_result"
    }
   ],
   "source": [
    "edu[10:14]"
   ]
  },
  {
   "cell_type": "code",
   "execution_count": 13,
   "id": "92ccf45c",
   "metadata": {},
   "outputs": [
    {
     "data": {
      "text/html": [
       "<div>\n",
       "<style scoped>\n",
       "    .dataframe tbody tr th:only-of-type {\n",
       "        vertical-align: middle;\n",
       "    }\n",
       "\n",
       "    .dataframe tbody tr th {\n",
       "        vertical-align: top;\n",
       "    }\n",
       "\n",
       "    .dataframe thead th {\n",
       "        text-align: right;\n",
       "    }\n",
       "</style>\n",
       "<table border=\"1\" class=\"dataframe\">\n",
       "  <thead>\n",
       "    <tr style=\"text-align: right;\">\n",
       "      <th></th>\n",
       "      <th>TIME</th>\n",
       "      <th>GEO</th>\n",
       "    </tr>\n",
       "  </thead>\n",
       "  <tbody>\n",
       "    <tr>\n",
       "      <th>90</th>\n",
       "      <td>2006</td>\n",
       "      <td>Belgium</td>\n",
       "    </tr>\n",
       "    <tr>\n",
       "      <th>91</th>\n",
       "      <td>2007</td>\n",
       "      <td>Belgium</td>\n",
       "    </tr>\n",
       "    <tr>\n",
       "      <th>92</th>\n",
       "      <td>2008</td>\n",
       "      <td>Belgium</td>\n",
       "    </tr>\n",
       "  </tbody>\n",
       "</table>\n",
       "</div>"
      ],
      "text/plain": [
       "    TIME      GEO\n",
       "90  2006  Belgium\n",
       "91  2007  Belgium\n",
       "92  2008  Belgium"
      ]
     },
     "execution_count": 13,
     "metadata": {},
     "output_type": "execute_result"
    }
   ],
   "source": [
    "edu.loc[90:92, ['TIME', 'GEO']]"
   ]
  },
  {
   "cell_type": "code",
   "execution_count": null,
   "id": "5929178b",
   "metadata": {},
   "outputs": [
    {
     "data": {
      "text/html": [
       "<div>\n",
       "<style scoped>\n",
       "    .dataframe tbody tr th:only-of-type {\n",
       "        vertical-align: middle;\n",
       "    }\n",
       "\n",
       "    .dataframe tbody tr th {\n",
       "        vertical-align: top;\n",
       "    }\n",
       "\n",
       "    .dataframe thead th {\n",
       "        text-align: right;\n",
       "    }\n",
       "</style>\n",
       "<table border=\"1\" class=\"dataframe\">\n",
       "  <thead>\n",
       "    <tr style=\"text-align: right;\">\n",
       "      <th></th>\n",
       "      <th>TIME</th>\n",
       "      <th>GEO</th>\n",
       "      <th>Value</th>\n",
       "    </tr>\n",
       "  </thead>\n",
       "  <tbody>\n",
       "    <tr>\n",
       "      <th>0</th>\n",
       "      <td>2000</td>\n",
       "      <td>European Union (28 countries)</td>\n",
       "      <td>NaN</td>\n",
       "    </tr>\n",
       "    <tr>\n",
       "      <th>1</th>\n",
       "      <td>2001</td>\n",
       "      <td>European Union (28 countries)</td>\n",
       "      <td>NaN</td>\n",
       "    </tr>\n",
       "    <tr>\n",
       "      <th>36</th>\n",
       "      <td>2000</td>\n",
       "      <td>Euro area (18 countries)</td>\n",
       "      <td>NaN</td>\n",
       "    </tr>\n",
       "    <tr>\n",
       "      <th>37</th>\n",
       "      <td>2001</td>\n",
       "      <td>Euro area (18 countries)</td>\n",
       "      <td>NaN</td>\n",
       "    </tr>\n",
       "    <tr>\n",
       "      <th>48</th>\n",
       "      <td>2000</td>\n",
       "      <td>Euro area (17 countries)</td>\n",
       "      <td>NaN</td>\n",
       "    </tr>\n",
       "  </tbody>\n",
       "</table>\n",
       "</div>"
      ],
      "text/plain": [
       "    TIME                            GEO  Value\n",
       "0   2000  European Union (28 countries)    NaN\n",
       "1   2001  European Union (28 countries)    NaN\n",
       "36  2000       Euro area (18 countries)    NaN\n",
       "37  2001       Euro area (18 countries)    NaN\n",
       "48  2000       Euro area (17 countries)    NaN"
      ]
     },
     "execution_count": 18,
     "metadata": {},
     "output_type": "execute_result"
    }
   ],
   "source": [
    "# edu[edu['Value'] > 6.5].tail()\n",
    "edu[edu['Value'].isnull()].head()"
   ]
  },
  {
   "cell_type": "markdown",
   "id": "19b31e98",
   "metadata": {},
   "source": [
    "### Uso del método `max()` en el DataFrame `edu`\n",
    "\n",
    "El código presentado utiliza el método `max()` de pandas para calcular los valores máximos en el DataFrame `edu`. A continuación, se describe su funcionamiento:\n",
    "\n",
    "#### `edu.max(axis=0)`\n",
    "- **Descripción**: Calcula el valor máximo para cada columna del DataFrame `edu`.\n",
    "- **`axis=0`**: Indica que la operación se realiza a lo largo de las filas, es decir, se calcula el máximo por columna.\n",
    "- **Salida esperada**: Devuelve una Serie con los valores máximos de cada columna.\n",
    "\n",
    "#### `edu.max(axis=1)`\n",
    "- **Descripción**: Calcula el valor máximo para cada fila del DataFrame `edu`.\n",
    "- **`axis=1`**: Indica que la operación se realiza a lo largo de las columnas, es decir, se calcula el máximo por fila.\n",
    "- **Salida esperada**: Devuelve una Serie con los valores máximos de cada fila.\n",
    "\n",
    "#### Ejemplo de salida:\n",
    "- Para `axis=0`, se obtendrán los valores máximos de las columnas `TIME`, `GEO` y `Value`.\n",
    "- Para `axis=1`, se obtendrá el valor máximo en cada fila considerando las columnas numéricas y de texto (en este caso, las cadenas de texto se comparan alfabéticamente).\n",
    "\n",
    "Este análisis es útil para identificar los valores extremos en el DataFrame, ya sea por columna o por fila."
   ]
  },
  {
   "cell_type": "code",
   "execution_count": 23,
   "id": "4282b528",
   "metadata": {},
   "outputs": [
    {
     "name": "stdout",
     "output_type": "stream",
     "text": [
      "axis = 0\n",
      "TIME      2011\n",
      "GEO      Spain\n",
      "Value     8.81\n",
      "dtype: object\n"
     ]
    }
   ],
   "source": [
    "print('axis = 0')\n",
    "print(edu.max(axis=0))\n",
    "\n",
    "# print('axis = 1')\n",
    "# print(edu.max(axis=1))"
   ]
  },
  {
   "cell_type": "code",
   "execution_count": 24,
   "id": "f96c1558",
   "metadata": {},
   "outputs": [
    {
     "name": "stdout",
     "output_type": "stream",
     "text": [
      "Pandas max function 8.81\n",
      "Python max function nan\n"
     ]
    }
   ],
   "source": [
    "print('Pandas max function', edu['Value'].max())\n",
    "print('Python max function', max(edu['Value']))"
   ]
  },
  {
   "cell_type": "code",
   "execution_count": 25,
   "id": "1f37a87b",
   "metadata": {},
   "outputs": [
    {
     "data": {
      "text/plain": [
       "0       NaN\n",
       "1       NaN\n",
       "2    0.0500\n",
       "3    0.0503\n",
       "4    0.0495\n",
       "Name: Value, dtype: float64"
      ]
     },
     "execution_count": 25,
     "metadata": {},
     "output_type": "execute_result"
    }
   ],
   "source": [
    "s = edu['Value'] / 100\n",
    "s.head()"
   ]
  },
  {
   "cell_type": "code",
   "execution_count": 28,
   "id": "1c7e95f0",
   "metadata": {},
   "outputs": [
    {
     "data": {
      "text/plain": [
       "0         NaN\n",
       "1         NaN\n",
       "2    2.236068\n",
       "3    2.242766\n",
       "4    2.224860\n",
       "Name: Value, dtype: float64"
      ]
     },
     "execution_count": 28,
     "metadata": {},
     "output_type": "execute_result"
    }
   ],
   "source": [
    "# s = edu['Value'].apply(lambda x: x / 100)\n",
    "s = edu['Value'].apply(lambda x: np.sqrt(x))\n",
    "s.head()"
   ]
  },
  {
   "cell_type": "code",
   "execution_count": 29,
   "id": "d61fa4b5",
   "metadata": {},
   "outputs": [
    {
     "data": {
      "text/html": [
       "<div>\n",
       "<style scoped>\n",
       "    .dataframe tbody tr th:only-of-type {\n",
       "        vertical-align: middle;\n",
       "    }\n",
       "\n",
       "    .dataframe tbody tr th {\n",
       "        vertical-align: top;\n",
       "    }\n",
       "\n",
       "    .dataframe thead th {\n",
       "        text-align: right;\n",
       "    }\n",
       "</style>\n",
       "<table border=\"1\" class=\"dataframe\">\n",
       "  <thead>\n",
       "    <tr style=\"text-align: right;\">\n",
       "      <th></th>\n",
       "      <th>TIME</th>\n",
       "      <th>GEO</th>\n",
       "      <th>Value</th>\n",
       "      <th>ValueNorm</th>\n",
       "    </tr>\n",
       "  </thead>\n",
       "  <tbody>\n",
       "    <tr>\n",
       "      <th>379</th>\n",
       "      <td>2007</td>\n",
       "      <td>Finland</td>\n",
       "      <td>5.90</td>\n",
       "      <td>0.669694</td>\n",
       "    </tr>\n",
       "    <tr>\n",
       "      <th>380</th>\n",
       "      <td>2008</td>\n",
       "      <td>Finland</td>\n",
       "      <td>6.10</td>\n",
       "      <td>0.692395</td>\n",
       "    </tr>\n",
       "    <tr>\n",
       "      <th>381</th>\n",
       "      <td>2009</td>\n",
       "      <td>Finland</td>\n",
       "      <td>6.81</td>\n",
       "      <td>0.772985</td>\n",
       "    </tr>\n",
       "    <tr>\n",
       "      <th>382</th>\n",
       "      <td>2010</td>\n",
       "      <td>Finland</td>\n",
       "      <td>6.85</td>\n",
       "      <td>0.777526</td>\n",
       "    </tr>\n",
       "    <tr>\n",
       "      <th>383</th>\n",
       "      <td>2011</td>\n",
       "      <td>Finland</td>\n",
       "      <td>6.76</td>\n",
       "      <td>0.767310</td>\n",
       "    </tr>\n",
       "  </tbody>\n",
       "</table>\n",
       "</div>"
      ],
      "text/plain": [
       "     TIME      GEO  Value  ValueNorm\n",
       "379  2007  Finland   5.90   0.669694\n",
       "380  2008  Finland   6.10   0.692395\n",
       "381  2009  Finland   6.81   0.772985\n",
       "382  2010  Finland   6.85   0.777526\n",
       "383  2011  Finland   6.76   0.767310"
      ]
     },
     "execution_count": 29,
     "metadata": {},
     "output_type": "execute_result"
    }
   ],
   "source": [
    "edu['ValueNorm'] = edu['Value'] / edu['Value'].max()\n",
    "edu.tail()"
   ]
  },
  {
   "cell_type": "markdown",
   "id": "d6925272",
   "metadata": {},
   "source": [
    "### Eliminación de la columna `ValueNorm` del DataFrame `edu`\n",
    "\n",
    "El código presentado realiza las siguientes acciones:\n",
    "\n",
    "1. **`edu.drop(columns=['ValueNorm'], axis=1, inplace=True)`**:\n",
    "    - **Descripción**: Elimina la columna `ValueNorm` del DataFrame `edu`.\n",
    "    - **`columns=['ValueNorm']`**: Especifica que se debe eliminar la columna llamada `ValueNorm`.\n",
    "    - **`axis=1`**: Indica que la operación se realiza a lo largo de las columnas.\n",
    "    - **`inplace=True`**: Modifica el DataFrame original `edu` directamente, sin necesidad de asignar el resultado a una nueva variable."
   ]
  },
  {
   "cell_type": "code",
   "execution_count": 30,
   "id": "577bbdce",
   "metadata": {},
   "outputs": [
    {
     "data": {
      "text/html": [
       "<div>\n",
       "<style scoped>\n",
       "    .dataframe tbody tr th:only-of-type {\n",
       "        vertical-align: middle;\n",
       "    }\n",
       "\n",
       "    .dataframe tbody tr th {\n",
       "        vertical-align: top;\n",
       "    }\n",
       "\n",
       "    .dataframe thead th {\n",
       "        text-align: right;\n",
       "    }\n",
       "</style>\n",
       "<table border=\"1\" class=\"dataframe\">\n",
       "  <thead>\n",
       "    <tr style=\"text-align: right;\">\n",
       "      <th></th>\n",
       "      <th>TIME</th>\n",
       "      <th>GEO</th>\n",
       "      <th>Value</th>\n",
       "    </tr>\n",
       "  </thead>\n",
       "  <tbody>\n",
       "    <tr>\n",
       "      <th>0</th>\n",
       "      <td>2000</td>\n",
       "      <td>European Union (28 countries)</td>\n",
       "      <td>NaN</td>\n",
       "    </tr>\n",
       "    <tr>\n",
       "      <th>1</th>\n",
       "      <td>2001</td>\n",
       "      <td>European Union (28 countries)</td>\n",
       "      <td>NaN</td>\n",
       "    </tr>\n",
       "    <tr>\n",
       "      <th>2</th>\n",
       "      <td>2002</td>\n",
       "      <td>European Union (28 countries)</td>\n",
       "      <td>5.00</td>\n",
       "    </tr>\n",
       "    <tr>\n",
       "      <th>3</th>\n",
       "      <td>2003</td>\n",
       "      <td>European Union (28 countries)</td>\n",
       "      <td>5.03</td>\n",
       "    </tr>\n",
       "    <tr>\n",
       "      <th>4</th>\n",
       "      <td>2004</td>\n",
       "      <td>European Union (28 countries)</td>\n",
       "      <td>4.95</td>\n",
       "    </tr>\n",
       "  </tbody>\n",
       "</table>\n",
       "</div>"
      ],
      "text/plain": [
       "   TIME                            GEO  Value\n",
       "0  2000  European Union (28 countries)    NaN\n",
       "1  2001  European Union (28 countries)    NaN\n",
       "2  2002  European Union (28 countries)   5.00\n",
       "3  2003  European Union (28 countries)   5.03\n",
       "4  2004  European Union (28 countries)   4.95"
      ]
     },
     "execution_count": 30,
     "metadata": {},
     "output_type": "execute_result"
    }
   ],
   "source": [
    "edu.drop(columns=['ValueNorm'], axis=1, inplace=True)\n",
    "edu.head()"
   ]
  },
  {
   "cell_type": "markdown",
   "id": "ee54ad36",
   "metadata": {},
   "source": [
    "### Concatenación de DataFrames con `pd.concat`\n",
    "\n",
    "El código presentado utiliza la función `pd.concat` de pandas para combinar dos DataFrames (`edu` y `df1`) en un único DataFrame. A continuación, se describe su funcionamiento:\n",
    "\n",
    "#### `edu = pd.concat([edu, df1], ignore_index=True)`\n",
    "- **Descripción**: Combina el DataFrame `edu` con el DataFrame `df1` y asigna el resultado al DataFrame `edu`.\n",
    "- **`[edu, df1]`**: Lista de DataFrames a concatenar. En este caso, se concatenan `edu` y `df1`.\n",
    "- **`ignore_index=True`**: Ignora los índices originales de los DataFrames y genera un nuevo índice secuencial para el DataFrame resultante.\n",
    "- **Resultado**: El DataFrame `edu` se actualiza para incluir las filas del DataFrame `df1`.\n",
    "\n",
    "Si se establece `ignore_index=False`, los índices originales de los DataFrames `edu` y `df1` se conservarán en el DataFrame resultante. Esto puede dar lugar a índices duplicados si ambos DataFrames tienen índices que se solapan. Por ejemplo, si `df1` tiene un índice `0` y `edu` también tiene un índice `0`, el DataFrame resultante tendrá dos filas con índice `0`."
   ]
  },
  {
   "cell_type": "code",
   "execution_count": 33,
   "id": "72dfec6c",
   "metadata": {},
   "outputs": [
    {
     "data": {
      "text/html": [
       "<div>\n",
       "<style scoped>\n",
       "    .dataframe tbody tr th:only-of-type {\n",
       "        vertical-align: middle;\n",
       "    }\n",
       "\n",
       "    .dataframe tbody tr th {\n",
       "        vertical-align: top;\n",
       "    }\n",
       "\n",
       "    .dataframe thead th {\n",
       "        text-align: right;\n",
       "    }\n",
       "</style>\n",
       "<table border=\"1\" class=\"dataframe\">\n",
       "  <thead>\n",
       "    <tr style=\"text-align: right;\">\n",
       "      <th></th>\n",
       "      <th>TIME</th>\n",
       "      <th>GEO</th>\n",
       "      <th>Value</th>\n",
       "    </tr>\n",
       "  </thead>\n",
       "  <tbody>\n",
       "    <tr>\n",
       "      <th>382</th>\n",
       "      <td>2010</td>\n",
       "      <td>Finland</td>\n",
       "      <td>6.85</td>\n",
       "    </tr>\n",
       "    <tr>\n",
       "      <th>383</th>\n",
       "      <td>2011</td>\n",
       "      <td>Finland</td>\n",
       "      <td>6.76</td>\n",
       "    </tr>\n",
       "    <tr>\n",
       "      <th>384</th>\n",
       "      <td>2000</td>\n",
       "      <td>a</td>\n",
       "      <td>5.00</td>\n",
       "    </tr>\n",
       "    <tr>\n",
       "      <th>385</th>\n",
       "      <td>2000</td>\n",
       "      <td>a</td>\n",
       "      <td>5.00</td>\n",
       "    </tr>\n",
       "    <tr>\n",
       "      <th>386</th>\n",
       "      <td>2000</td>\n",
       "      <td>a</td>\n",
       "      <td>5.00</td>\n",
       "    </tr>\n",
       "  </tbody>\n",
       "</table>\n",
       "</div>"
      ],
      "text/plain": [
       "     TIME      GEO  Value\n",
       "382  2010  Finland   6.85\n",
       "383  2011  Finland   6.76\n",
       "384  2000        a   5.00\n",
       "385  2000        a   5.00\n",
       "386  2000        a   5.00"
      ]
     },
     "execution_count": 33,
     "metadata": {},
     "output_type": "execute_result"
    }
   ],
   "source": [
    "df1 = pd.DataFrame({'TIME': [2000], 'Value': [5.00], 'GEO': ['a']})\n",
    "edu = pd.concat([edu, df1], ignore_index=True)\n",
    "edu.tail()"
   ]
  },
  {
   "cell_type": "code",
   "execution_count": 36,
   "id": "2c160ec7",
   "metadata": {},
   "outputs": [
    {
     "data": {
      "text/html": [
       "<div>\n",
       "<style scoped>\n",
       "    .dataframe tbody tr th:only-of-type {\n",
       "        vertical-align: middle;\n",
       "    }\n",
       "\n",
       "    .dataframe tbody tr th {\n",
       "        vertical-align: top;\n",
       "    }\n",
       "\n",
       "    .dataframe thead th {\n",
       "        text-align: right;\n",
       "    }\n",
       "</style>\n",
       "<table border=\"1\" class=\"dataframe\">\n",
       "  <thead>\n",
       "    <tr style=\"text-align: right;\">\n",
       "      <th></th>\n",
       "      <th>TIME</th>\n",
       "      <th>GEO</th>\n",
       "      <th>Value</th>\n",
       "    </tr>\n",
       "  </thead>\n",
       "  <tbody>\n",
       "    <tr>\n",
       "      <th>379</th>\n",
       "      <td>2007</td>\n",
       "      <td>Finland</td>\n",
       "      <td>5.90</td>\n",
       "    </tr>\n",
       "    <tr>\n",
       "      <th>380</th>\n",
       "      <td>2008</td>\n",
       "      <td>Finland</td>\n",
       "      <td>6.10</td>\n",
       "    </tr>\n",
       "    <tr>\n",
       "      <th>381</th>\n",
       "      <td>2009</td>\n",
       "      <td>Finland</td>\n",
       "      <td>6.81</td>\n",
       "    </tr>\n",
       "    <tr>\n",
       "      <th>382</th>\n",
       "      <td>2010</td>\n",
       "      <td>Finland</td>\n",
       "      <td>6.85</td>\n",
       "    </tr>\n",
       "    <tr>\n",
       "      <th>383</th>\n",
       "      <td>2011</td>\n",
       "      <td>Finland</td>\n",
       "      <td>6.76</td>\n",
       "    </tr>\n",
       "  </tbody>\n",
       "</table>\n",
       "</div>"
      ],
      "text/plain": [
       "     TIME      GEO  Value\n",
       "379  2007  Finland   5.90\n",
       "380  2008  Finland   6.10\n",
       "381  2009  Finland   6.81\n",
       "382  2010  Finland   6.85\n",
       "383  2011  Finland   6.76"
      ]
     },
     "execution_count": 36,
     "metadata": {},
     "output_type": "execute_result"
    }
   ],
   "source": [
    "edu.drop(index=edu.index[-1], inplace=True)\n",
    "edu.tail()"
   ]
  },
  {
   "cell_type": "code",
   "execution_count": 37,
   "id": "97e8df7a",
   "metadata": {},
   "outputs": [
    {
     "data": {
      "text/plain": [
       "0       True\n",
       "1       True\n",
       "2      False\n",
       "3      False\n",
       "4      False\n",
       "       ...  \n",
       "379    False\n",
       "380    False\n",
       "381    False\n",
       "382    False\n",
       "383    False\n",
       "Name: Value, Length: 384, dtype: bool"
      ]
     },
     "execution_count": 37,
     "metadata": {},
     "output_type": "execute_result"
    }
   ],
   "source": [
    "edu['Value'].isnull()"
   ]
  },
  {
   "cell_type": "markdown",
   "id": "aff5d096",
   "metadata": {},
   "source": [
    "### Eliminación de Filas con Valores Nulos en la Columna `Value`\n",
    "\n",
    "El código presentado utiliza el método `dropna` de pandas para eliminar las filas del DataFrame `edu` que contienen valores nulos (`NaN`) en la columna `Value`. A continuación, se describe su funcionamiento:\n",
    "\n",
    "#### `eduDrop = edu.dropna(how='any', subset=['Value'], axis=0)`\n",
    "- **Descripción**: Crea un nuevo DataFrame `eduDrop` eliminando las filas de `edu` donde la columna `Value` tiene valores nulos.\n",
    "- **`how='any'`**: Especifica que se deben eliminar las filas si **cualquier** valor en las columnas seleccionadas (`subset`) es nulo.\n",
    "- **`subset=['Value']`**: Indica que solo se debe considerar la columna `Value` para determinar si una fila debe eliminarse.\n",
    "- **`axis=0`**: Especifica que la operación se realiza a lo largo de las filas.\n",
    "- **Resultado**: El DataFrame `eduDrop` contiene únicamente las filas de `edu` donde la columna `Value` no tiene valores nulos.\n",
    "\n",
    "#### Ejemplo de Salida:\n",
    "El DataFrame resultante `eduDrop` tiene 361 filas y 3 columnas, ya que se eliminaron las filas con valores nulos en la columna `Value`. Esto es útil para realizar análisis o visualizaciones en datos completos sin valores faltantes."
   ]
  },
  {
   "cell_type": "code",
   "execution_count": 38,
   "id": "50b33e42",
   "metadata": {},
   "outputs": [
    {
     "data": {
      "text/html": [
       "<div>\n",
       "<style scoped>\n",
       "    .dataframe tbody tr th:only-of-type {\n",
       "        vertical-align: middle;\n",
       "    }\n",
       "\n",
       "    .dataframe tbody tr th {\n",
       "        vertical-align: top;\n",
       "    }\n",
       "\n",
       "    .dataframe thead th {\n",
       "        text-align: right;\n",
       "    }\n",
       "</style>\n",
       "<table border=\"1\" class=\"dataframe\">\n",
       "  <thead>\n",
       "    <tr style=\"text-align: right;\">\n",
       "      <th></th>\n",
       "      <th>TIME</th>\n",
       "      <th>GEO</th>\n",
       "      <th>Value</th>\n",
       "    </tr>\n",
       "  </thead>\n",
       "  <tbody>\n",
       "    <tr>\n",
       "      <th>2</th>\n",
       "      <td>2002</td>\n",
       "      <td>European Union (28 countries)</td>\n",
       "      <td>5.00</td>\n",
       "    </tr>\n",
       "    <tr>\n",
       "      <th>3</th>\n",
       "      <td>2003</td>\n",
       "      <td>European Union (28 countries)</td>\n",
       "      <td>5.03</td>\n",
       "    </tr>\n",
       "    <tr>\n",
       "      <th>4</th>\n",
       "      <td>2004</td>\n",
       "      <td>European Union (28 countries)</td>\n",
       "      <td>4.95</td>\n",
       "    </tr>\n",
       "    <tr>\n",
       "      <th>5</th>\n",
       "      <td>2005</td>\n",
       "      <td>European Union (28 countries)</td>\n",
       "      <td>4.92</td>\n",
       "    </tr>\n",
       "    <tr>\n",
       "      <th>6</th>\n",
       "      <td>2006</td>\n",
       "      <td>European Union (28 countries)</td>\n",
       "      <td>4.91</td>\n",
       "    </tr>\n",
       "  </tbody>\n",
       "</table>\n",
       "</div>"
      ],
      "text/plain": [
       "   TIME                            GEO  Value\n",
       "2  2002  European Union (28 countries)   5.00\n",
       "3  2003  European Union (28 countries)   5.03\n",
       "4  2004  European Union (28 countries)   4.95\n",
       "5  2005  European Union (28 countries)   4.92\n",
       "6  2006  European Union (28 countries)   4.91"
      ]
     },
     "execution_count": 38,
     "metadata": {},
     "output_type": "execute_result"
    }
   ],
   "source": [
    "eduDrop = edu.dropna(how='any', subset=['Value'], axis=0)\n",
    "eduDrop.head()"
   ]
  },
  {
   "cell_type": "markdown",
   "id": "c47ca587",
   "metadata": {},
   "source": [
    "### Método `fillna` en pandas\n",
    "\n",
    "El método `fillna` se utiliza para rellenar valores nulos (`NaN`) en un DataFrame o Serie con un valor específico o utilizando una estrategia definida. En el caso del código:\n",
    "\n",
    "```python\n",
    "eduFilled = edu.fillna(value={'Value': 0})\n",
    "```\n",
    "\n",
    "#### Descripción:\n",
    "- **`edu.fillna(value={'Value': 0})`**:\n",
    "    - **`value={'Value': 0}`**: Especifica un diccionario donde la clave es el nombre de la columna (`Value`) y el valor es el que se usará para reemplazar los valores nulos en esa columna (`0` en este caso).\n",
    "    - **Resultado**: Se crea un nuevo DataFrame `eduFilled` donde los valores nulos en la columna `Value` del DataFrame `edu` han sido reemplazados por `0`.\n",
    "\n",
    "#### Otros argumentos del método `fillna`:\n",
    "1. **`value`**: \n",
    "     - Puede ser un escalar, un diccionario o una Serie que especifique los valores con los que se reemplazarán los nulos.\n",
    "     - Ejemplo: `df.fillna(value=0)` o `df.fillna(value={'col1': 0, 'col2': 1})`.\n",
    "\n",
    "2. **`method`**:\n",
    "     - Método para rellenar valores nulos.\n",
    "     - Opciones: `'ffill'` (rellena hacia adelante), `'bfill'` (rellena hacia atrás).\n",
    "     - Ejemplo: `df.fillna(method='ffill')`.\n",
    "\n",
    "3. **`axis`**:\n",
    "     - Especifica si la operación se realiza por filas (`axis=0`) o por columnas (`axis=1`).\n",
    "     - Por defecto: `axis=0`.\n",
    "\n",
    "4. **`inplace`**:\n",
    "     - Si es `True`, modifica el DataFrame original en lugar de devolver una copia.\n",
    "     - Por defecto: `False`.\n",
    "\n",
    "5. **`limit`**:\n",
    "     - Número máximo de valores consecutivos nulos a rellenar.\n",
    "     - Ejemplo: `df.fillna(method='ffill', limit=2)`.\n",
    "\n",
    "6. **`downcast`**:\n",
    "     - Permite convertir el tipo de datos del resultado a un tipo más específico si es posible.\n",
    "     - Ejemplo: `df.fillna(value=0, downcast='int')`.\n",
    "\n",
    "#### Ejemplo adicional:\n",
    "```python\n",
    "# Rellenar valores nulos con el promedio de la columna\n",
    "eduFilled = edu.fillna(value={'Value': edu['Value'].mean()})\n",
    "```"
   ]
  },
  {
   "cell_type": "code",
   "execution_count": 41,
   "id": "e074b7f0",
   "metadata": {},
   "outputs": [
    {
     "data": {
      "text/html": [
       "<div>\n",
       "<style scoped>\n",
       "    .dataframe tbody tr th:only-of-type {\n",
       "        vertical-align: middle;\n",
       "    }\n",
       "\n",
       "    .dataframe tbody tr th {\n",
       "        vertical-align: top;\n",
       "    }\n",
       "\n",
       "    .dataframe thead th {\n",
       "        text-align: right;\n",
       "    }\n",
       "</style>\n",
       "<table border=\"1\" class=\"dataframe\">\n",
       "  <thead>\n",
       "    <tr style=\"text-align: right;\">\n",
       "      <th></th>\n",
       "      <th>TIME</th>\n",
       "      <th>GEO</th>\n",
       "      <th>Value</th>\n",
       "    </tr>\n",
       "  </thead>\n",
       "  <tbody>\n",
       "    <tr>\n",
       "      <th>0</th>\n",
       "      <td>2000</td>\n",
       "      <td>European Union (28 countries)</td>\n",
       "      <td>0.00</td>\n",
       "    </tr>\n",
       "    <tr>\n",
       "      <th>1</th>\n",
       "      <td>2001</td>\n",
       "      <td>European Union (28 countries)</td>\n",
       "      <td>0.00</td>\n",
       "    </tr>\n",
       "    <tr>\n",
       "      <th>2</th>\n",
       "      <td>2002</td>\n",
       "      <td>European Union (28 countries)</td>\n",
       "      <td>5.00</td>\n",
       "    </tr>\n",
       "    <tr>\n",
       "      <th>3</th>\n",
       "      <td>2003</td>\n",
       "      <td>European Union (28 countries)</td>\n",
       "      <td>5.03</td>\n",
       "    </tr>\n",
       "    <tr>\n",
       "      <th>4</th>\n",
       "      <td>2004</td>\n",
       "      <td>European Union (28 countries)</td>\n",
       "      <td>4.95</td>\n",
       "    </tr>\n",
       "  </tbody>\n",
       "</table>\n",
       "</div>"
      ],
      "text/plain": [
       "   TIME                            GEO  Value\n",
       "0  2000  European Union (28 countries)   0.00\n",
       "1  2001  European Union (28 countries)   0.00\n",
       "2  2002  European Union (28 countries)   5.00\n",
       "3  2003  European Union (28 countries)   5.03\n",
       "4  2004  European Union (28 countries)   4.95"
      ]
     },
     "execution_count": 41,
     "metadata": {},
     "output_type": "execute_result"
    }
   ],
   "source": [
    "eduFilled = edu.fillna(value={'Value': 0})\n",
    "eduFilled.head()"
   ]
  },
  {
   "cell_type": "markdown",
   "id": "3df068c5",
   "metadata": {},
   "source": [
    "### Ordenamiento del DataFrame `edu` por la columna `Value`\n",
    "\n",
    "El código presentado utiliza el método `sort_values` de pandas para ordenar el DataFrame `edu` en función de los valores de la columna `Value`. A continuación, se describe su funcionamiento:\n",
    "\n",
    "#### `edu.sort_values(by='Value', ascending=False, inplace=True)`\n",
    "- **`by='Value'`**: Especifica la columna `Value` como el criterio de ordenamiento.\n",
    "- **`ascending=False`**: Indica que el ordenamiento debe ser descendente (de mayor a menor).\n",
    "- **`inplace=True`**: Modifica el DataFrame original `edu` directamente, sin necesidad de asignar el resultado a una nueva variable.\n",
    "\n",
    "#### Resultado:\n",
    "El DataFrame `edu` se reorganiza de manera que las filas con los valores más altos en la columna `Value` aparecen primero. Las filas con valores nulos (`NaN`) en la columna `Value` se colocan al final del DataFrame.\n",
    "\n",
    "#### Ejemplo de uso:\n",
    "Este ordenamiento es útil para identificar rápidamente las filas con los valores más altos en la columna `Value`, como los países o años con los mayores valores registrados."
   ]
  },
  {
   "cell_type": "code",
   "execution_count": 42,
   "id": "3ca85b34",
   "metadata": {},
   "outputs": [
    {
     "data": {
      "text/html": [
       "<div>\n",
       "<style scoped>\n",
       "    .dataframe tbody tr th:only-of-type {\n",
       "        vertical-align: middle;\n",
       "    }\n",
       "\n",
       "    .dataframe tbody tr th {\n",
       "        vertical-align: top;\n",
       "    }\n",
       "\n",
       "    .dataframe thead th {\n",
       "        text-align: right;\n",
       "    }\n",
       "</style>\n",
       "<table border=\"1\" class=\"dataframe\">\n",
       "  <thead>\n",
       "    <tr style=\"text-align: right;\">\n",
       "      <th></th>\n",
       "      <th>TIME</th>\n",
       "      <th>GEO</th>\n",
       "      <th>Value</th>\n",
       "    </tr>\n",
       "  </thead>\n",
       "  <tbody>\n",
       "    <tr>\n",
       "      <th>130</th>\n",
       "      <td>2010</td>\n",
       "      <td>Denmark</td>\n",
       "      <td>8.81</td>\n",
       "    </tr>\n",
       "    <tr>\n",
       "      <th>131</th>\n",
       "      <td>2011</td>\n",
       "      <td>Denmark</td>\n",
       "      <td>8.75</td>\n",
       "    </tr>\n",
       "    <tr>\n",
       "      <th>129</th>\n",
       "      <td>2009</td>\n",
       "      <td>Denmark</td>\n",
       "      <td>8.74</td>\n",
       "    </tr>\n",
       "    <tr>\n",
       "      <th>122</th>\n",
       "      <td>2002</td>\n",
       "      <td>Denmark</td>\n",
       "      <td>8.44</td>\n",
       "    </tr>\n",
       "    <tr>\n",
       "      <th>121</th>\n",
       "      <td>2001</td>\n",
       "      <td>Denmark</td>\n",
       "      <td>8.44</td>\n",
       "    </tr>\n",
       "  </tbody>\n",
       "</table>\n",
       "</div>"
      ],
      "text/plain": [
       "     TIME      GEO  Value\n",
       "130  2010  Denmark   8.81\n",
       "131  2011  Denmark   8.75\n",
       "129  2009  Denmark   8.74\n",
       "122  2002  Denmark   8.44\n",
       "121  2001  Denmark   8.44"
      ]
     },
     "execution_count": 42,
     "metadata": {},
     "output_type": "execute_result"
    }
   ],
   "source": [
    "edu.sort_values(by='Value', ascending=False, inplace=True)\n",
    "edu.head()"
   ]
  },
  {
   "cell_type": "code",
   "execution_count": 45,
   "id": "4bc59481",
   "metadata": {},
   "outputs": [
    {
     "data": {
      "text/html": [
       "<div>\n",
       "<style scoped>\n",
       "    .dataframe tbody tr th:only-of-type {\n",
       "        vertical-align: middle;\n",
       "    }\n",
       "\n",
       "    .dataframe tbody tr th {\n",
       "        vertical-align: top;\n",
       "    }\n",
       "\n",
       "    .dataframe thead th {\n",
       "        text-align: right;\n",
       "    }\n",
       "</style>\n",
       "<table border=\"1\" class=\"dataframe\">\n",
       "  <thead>\n",
       "    <tr style=\"text-align: right;\">\n",
       "      <th></th>\n",
       "      <th>TIME</th>\n",
       "      <th>GEO</th>\n",
       "      <th>Value</th>\n",
       "    </tr>\n",
       "  </thead>\n",
       "  <tbody>\n",
       "    <tr>\n",
       "      <th>0</th>\n",
       "      <td>2000</td>\n",
       "      <td>European Union (28 countries)</td>\n",
       "      <td>NaN</td>\n",
       "    </tr>\n",
       "    <tr>\n",
       "      <th>1</th>\n",
       "      <td>2001</td>\n",
       "      <td>European Union (28 countries)</td>\n",
       "      <td>NaN</td>\n",
       "    </tr>\n",
       "    <tr>\n",
       "      <th>2</th>\n",
       "      <td>2002</td>\n",
       "      <td>European Union (28 countries)</td>\n",
       "      <td>5.00</td>\n",
       "    </tr>\n",
       "    <tr>\n",
       "      <th>3</th>\n",
       "      <td>2003</td>\n",
       "      <td>European Union (28 countries)</td>\n",
       "      <td>5.03</td>\n",
       "    </tr>\n",
       "    <tr>\n",
       "      <th>4</th>\n",
       "      <td>2004</td>\n",
       "      <td>European Union (28 countries)</td>\n",
       "      <td>4.95</td>\n",
       "    </tr>\n",
       "  </tbody>\n",
       "</table>\n",
       "</div>"
      ],
      "text/plain": [
       "   TIME                            GEO  Value\n",
       "0  2000  European Union (28 countries)    NaN\n",
       "1  2001  European Union (28 countries)    NaN\n",
       "2  2002  European Union (28 countries)   5.00\n",
       "3  2003  European Union (28 countries)   5.03\n",
       "4  2004  European Union (28 countries)   4.95"
      ]
     },
     "execution_count": 45,
     "metadata": {},
     "output_type": "execute_result"
    }
   ],
   "source": [
    "edu.sort_index(ascending=True, inplace=True) # axis=0\n",
    "edu.head()"
   ]
  },
  {
   "cell_type": "code",
   "execution_count": 46,
   "id": "a1cfb518",
   "metadata": {},
   "outputs": [
    {
     "data": {
      "text/html": [
       "<div>\n",
       "<style scoped>\n",
       "    .dataframe tbody tr th:only-of-type {\n",
       "        vertical-align: middle;\n",
       "    }\n",
       "\n",
       "    .dataframe tbody tr th {\n",
       "        vertical-align: top;\n",
       "    }\n",
       "\n",
       "    .dataframe thead th {\n",
       "        text-align: right;\n",
       "    }\n",
       "</style>\n",
       "<table border=\"1\" class=\"dataframe\">\n",
       "  <thead>\n",
       "    <tr style=\"text-align: right;\">\n",
       "      <th></th>\n",
       "      <th>Value</th>\n",
       "    </tr>\n",
       "    <tr>\n",
       "      <th>GEO</th>\n",
       "      <th></th>\n",
       "    </tr>\n",
       "  </thead>\n",
       "  <tbody>\n",
       "    <tr>\n",
       "      <th>Austria</th>\n",
       "      <td>5.618333</td>\n",
       "    </tr>\n",
       "    <tr>\n",
       "      <th>Belgium</th>\n",
       "      <td>6.189091</td>\n",
       "    </tr>\n",
       "    <tr>\n",
       "      <th>Bulgaria</th>\n",
       "      <td>4.093333</td>\n",
       "    </tr>\n",
       "    <tr>\n",
       "      <th>Cyprus</th>\n",
       "      <td>7.023333</td>\n",
       "    </tr>\n",
       "    <tr>\n",
       "      <th>Czech Republic</th>\n",
       "      <td>4.168333</td>\n",
       "    </tr>\n",
       "  </tbody>\n",
       "</table>\n",
       "</div>"
      ],
      "text/plain": [
       "                   Value\n",
       "GEO                     \n",
       "Austria         5.618333\n",
       "Belgium         6.189091\n",
       "Bulgaria        4.093333\n",
       "Cyprus          7.023333\n",
       "Czech Republic  4.168333"
      ]
     },
     "execution_count": 46,
     "metadata": {},
     "output_type": "execute_result"
    }
   ],
   "source": [
    "group = edu[['GEO', 'Value']].groupby('GEO').mean()\n",
    "group.head()"
   ]
  },
  {
   "cell_type": "markdown",
   "id": "05ab4a61",
   "metadata": {},
   "source": [
    "### Creación de una Tabla Dinámica con `pd.pivot_table`\n",
    "\n",
    "El código presentado utiliza la función `pd.pivot_table` de pandas para crear una tabla dinámica a partir del DataFrame `filtered_data`. A continuación, se describe su funcionamiento:\n",
    "\n",
    "#### `pivedu = pd.pivot_table(filtered_data, index='GEO', columns='TIME', values='Value', aggfunc='mean')`\n",
    "- **`filtered_data`**: DataFrame de entrada que contiene los datos filtrados.\n",
    "- **`index='GEO'`**: Especifica que las filas de la tabla dinámica estarán indexadas por los valores únicos de la columna `GEO`.\n",
    "- **`columns='TIME'`**: Define que las columnas de la tabla dinámica estarán basadas en los valores únicos de la columna `TIME`.\n",
    "- **`values='Value'`**: Indica que los valores de la tabla dinámica provendrán de la columna `Value`.\n",
    "- **`aggfunc='mean'`**: Especifica que se calculará el promedio (`mean`) de los valores en caso de que haya múltiples entradas para una combinación de `GEO` y `TIME`.\n",
    "\n",
    "#### Resultado:\n",
    "El DataFrame `pivedu` es una tabla dinámica donde:\n",
    "- Cada fila representa un país o región (`GEO`).\n",
    "- Cada columna representa un año (`TIME`).\n",
    "- Las celdas contienen el promedio de los valores (`Value`) para cada combinación de `GEO` y `TIME`.\n",
    "\n",
    "#### Ejemplo de uso:\n",
    "Este tipo de tabla es útil para analizar tendencias temporales de los valores por país o región, facilitando la comparación entre diferentes períodos de tiempo.\n",
    "\n",
    "#### Argumentos de `pd.pivot_table`\n",
    "\n",
    "**Argumentos obligatorios:**\n",
    "- **`data`**: El DataFrame de entrada.\n",
    "\n",
    "**Argumentos opcionales:**\n",
    "- **`values`**: Columnas a agregar en la tabla dinámica.\n",
    "- **`index`**: Columnas a usar como índices de las filas.\n",
    "- **`columns`**: Columnas a usar como encabezados de las columnas.\n",
    "- **`aggfunc`**: Función de agregación (por defecto es `'mean'`).\n",
    "- **`fill_value`**: Valor para reemplazar valores nulos en la tabla dinámica.\n",
    "- **`margins`**: Si es `True`, agrega totales para filas y columnas (por defecto es `False`).\n",
    "- **`dropna`**: Si es `True`, elimina columnas con todos valores nulos (por defecto es `True`).\n",
    "- **`margins_name`**: Nombre de la fila/columna de totales (por defecto es `'All'`).\n",
    "- **`observed`**: Si es `True`, solo muestra combinaciones observadas de categorías (por defecto es `False`).\n",
    "- **`sort`**: Si es `True`, ordena las categorías en el resultado (por defecto es `True`)."
   ]
  },
  {
   "cell_type": "code",
   "execution_count": 9,
   "id": "e824e3d1",
   "metadata": {},
   "outputs": [
    {
     "data": {
      "text/html": [
       "<div>\n",
       "<style scoped>\n",
       "    .dataframe tbody tr th:only-of-type {\n",
       "        vertical-align: middle;\n",
       "    }\n",
       "\n",
       "    .dataframe tbody tr th {\n",
       "        vertical-align: top;\n",
       "    }\n",
       "\n",
       "    .dataframe thead th {\n",
       "        text-align: right;\n",
       "    }\n",
       "</style>\n",
       "<table border=\"1\" class=\"dataframe\">\n",
       "  <thead>\n",
       "    <tr style=\"text-align: right;\">\n",
       "      <th>TIME</th>\n",
       "      <th>2006</th>\n",
       "      <th>2007</th>\n",
       "      <th>2008</th>\n",
       "      <th>2009</th>\n",
       "      <th>2010</th>\n",
       "      <th>2011</th>\n",
       "    </tr>\n",
       "    <tr>\n",
       "      <th>GEO</th>\n",
       "      <th></th>\n",
       "      <th></th>\n",
       "      <th></th>\n",
       "      <th></th>\n",
       "      <th></th>\n",
       "      <th></th>\n",
       "    </tr>\n",
       "  </thead>\n",
       "  <tbody>\n",
       "    <tr>\n",
       "      <th>Austria</th>\n",
       "      <td>5.40</td>\n",
       "      <td>5.33</td>\n",
       "      <td>5.47</td>\n",
       "      <td>5.98</td>\n",
       "      <td>5.91</td>\n",
       "      <td>5.80</td>\n",
       "    </tr>\n",
       "    <tr>\n",
       "      <th>Belgium</th>\n",
       "      <td>5.98</td>\n",
       "      <td>6.00</td>\n",
       "      <td>6.43</td>\n",
       "      <td>6.57</td>\n",
       "      <td>6.58</td>\n",
       "      <td>6.55</td>\n",
       "    </tr>\n",
       "    <tr>\n",
       "      <th>Bulgaria</th>\n",
       "      <td>4.04</td>\n",
       "      <td>3.88</td>\n",
       "      <td>4.44</td>\n",
       "      <td>4.58</td>\n",
       "      <td>4.10</td>\n",
       "      <td>3.82</td>\n",
       "    </tr>\n",
       "    <tr>\n",
       "      <th>Cyprus</th>\n",
       "      <td>7.02</td>\n",
       "      <td>6.95</td>\n",
       "      <td>7.45</td>\n",
       "      <td>7.98</td>\n",
       "      <td>7.92</td>\n",
       "      <td>7.87</td>\n",
       "    </tr>\n",
       "    <tr>\n",
       "      <th>Czech Republic</th>\n",
       "      <td>4.42</td>\n",
       "      <td>4.05</td>\n",
       "      <td>3.92</td>\n",
       "      <td>4.36</td>\n",
       "      <td>4.25</td>\n",
       "      <td>4.51</td>\n",
       "    </tr>\n",
       "  </tbody>\n",
       "</table>\n",
       "</div>"
      ],
      "text/plain": [
       "TIME            2006  2007  2008  2009  2010  2011\n",
       "GEO                                               \n",
       "Austria         5.40  5.33  5.47  5.98  5.91  5.80\n",
       "Belgium         5.98  6.00  6.43  6.57  6.58  6.55\n",
       "Bulgaria        4.04  3.88  4.44  4.58  4.10  3.82\n",
       "Cyprus          7.02  6.95  7.45  7.98  7.92  7.87\n",
       "Czech Republic  4.42  4.05  3.92  4.36  4.25  4.51"
      ]
     },
     "execution_count": 9,
     "metadata": {},
     "output_type": "execute_result"
    }
   ],
   "source": [
    "filtered_data = edu[edu['TIME'] > 2005]\n",
    "pivedu = pd.pivot_table(filtered_data, index='GEO', columns='TIME', values='Value', aggfunc='mean')\n",
    "pivedu.head()"
   ]
  },
  {
   "cell_type": "code",
   "execution_count": 59,
   "id": "57c34d69",
   "metadata": {},
   "outputs": [
    {
     "data": {
      "text/html": [
       "<div>\n",
       "<style scoped>\n",
       "    .dataframe tbody tr th:only-of-type {\n",
       "        vertical-align: middle;\n",
       "    }\n",
       "\n",
       "    .dataframe tbody tr th {\n",
       "        vertical-align: top;\n",
       "    }\n",
       "\n",
       "    .dataframe thead th {\n",
       "        text-align: right;\n",
       "    }\n",
       "</style>\n",
       "<table border=\"1\" class=\"dataframe\">\n",
       "  <thead>\n",
       "    <tr style=\"text-align: right;\">\n",
       "      <th>TIME</th>\n",
       "      <th>2006</th>\n",
       "      <th>2011</th>\n",
       "    </tr>\n",
       "    <tr>\n",
       "      <th>GEO</th>\n",
       "      <th></th>\n",
       "      <th></th>\n",
       "    </tr>\n",
       "  </thead>\n",
       "  <tbody>\n",
       "    <tr>\n",
       "      <th>Spain</th>\n",
       "      <td>4.26</td>\n",
       "      <td>4.82</td>\n",
       "    </tr>\n",
       "    <tr>\n",
       "      <th>Italy</th>\n",
       "      <td>4.67</td>\n",
       "      <td>4.29</td>\n",
       "    </tr>\n",
       "  </tbody>\n",
       "</table>\n",
       "</div>"
      ],
      "text/plain": [
       "TIME   2006  2011\n",
       "GEO              \n",
       "Spain  4.26  4.82\n",
       "Italy  4.67  4.29"
      ]
     },
     "execution_count": 59,
     "metadata": {},
     "output_type": "execute_result"
    }
   ],
   "source": [
    "pivedu.loc[['Spain', 'Italy'], [2006, 2011]]"
   ]
  },
  {
   "cell_type": "markdown",
   "id": "d998694d",
   "metadata": {},
   "source": [
    "### Limpieza y Transformación del DataFrame `pivedu`\n",
    "\n",
    "El código presentado realiza varias operaciones de limpieza y transformación en el DataFrame `pivedu`. A continuación, se describe cada paso:\n",
    "\n",
    "#### 1. Eliminación de Filas Específicas\n",
    "```python\n",
    "pivedu = pivedu.drop(['Euro area (13 countries)',\n",
    "                      'Euro area (15 countries)',\n",
    "                      'Euro area (17 countries)',\n",
    "                      'Euro area (18 countries)',\n",
    "                      'European Union (25 countries)',\n",
    "                      'European Union (27 countries)',\n",
    "                      'European Union (28 countries)'], axis=0)\n",
    "```\n",
    "- **Descripción**: Se eliminan las filas correspondientes a regiones agregadas (como \"Euro area\" y \"European Union\") que no representan países individuales.\n",
    "- **`axis=0`**: Indica que la operación se realiza a lo largo de las filas.\n",
    "- **Resultado**: El DataFrame `pivedu` contiene únicamente datos de países individuales.\n",
    "\n",
    "#### 2. Renombrar Índices\n",
    "```python\n",
    "pivedu = pivedu.rename(index={'Germany (until 1990 former territory of the FRG)': 'Germany'})\n",
    "```\n",
    "- **Descripción**: Se renombra el índice correspondiente a Alemania para simplificar su nombre.\n",
    "- **`index`**: Especifica los índices a renombrar mediante un diccionario donde la clave es el nombre original y el valor es el nuevo nombre.\n",
    "- **Resultado**: El índice \"Germany (until 1990 former territory of the FRG)\" se reemplaza por \"Germany\".\n",
    "\n",
    "#### 3. Eliminación de Filas con Valores Nulos\n",
    "```python\n",
    "pivedu = pivedu.dropna()\n",
    "```\n",
    "- **Descripción**: Se eliminan las filas que contienen valores nulos (`NaN`) en cualquier columna.\n",
    "- **Resultado**: El DataFrame `pivedu` queda limpio de valores faltantes.\n",
    "\n",
    "#### 4. Ranking de Valores\n",
    "```python\n",
    "pivedu.rank(ascending=False, method='first').head()\n",
    "```\n",
    "- **Descripción**: Se calcula el ranking de los valores en el DataFrame `pivedu`.\n",
    "  - **`ascending=False`**: El ranking se realiza en orden descendente (de mayor a menor).\n",
    "  - **`method='first'`**: En caso de empates, se asigna el ranking según el orden de aparición en el DataFrame.\n",
    "- **Resultado**: Devuelve un DataFrame con los rankings de los valores en `pivedu`.\n",
    "\n",
    "#### Propósito General\n",
    "Este código es útil para limpiar y preparar los datos del DataFrame `pivedu`, eliminando información redundante o irrelevante, renombrando índices para mayor claridad, y calculando rankings para análisis posteriores."
   ]
  },
  {
   "cell_type": "code",
   "execution_count": null,
   "id": "7294ee63",
   "metadata": {},
   "outputs": [
    {
     "data": {
      "text/html": [
       "<div>\n",
       "<style scoped>\n",
       "    .dataframe tbody tr th:only-of-type {\n",
       "        vertical-align: middle;\n",
       "    }\n",
       "\n",
       "    .dataframe tbody tr th {\n",
       "        vertical-align: top;\n",
       "    }\n",
       "\n",
       "    .dataframe thead th {\n",
       "        text-align: right;\n",
       "    }\n",
       "</style>\n",
       "<table border=\"1\" class=\"dataframe\">\n",
       "  <thead>\n",
       "    <tr style=\"text-align: right;\">\n",
       "      <th>TIME</th>\n",
       "      <th>2006</th>\n",
       "      <th>2007</th>\n",
       "      <th>2008</th>\n",
       "      <th>2009</th>\n",
       "      <th>2010</th>\n",
       "      <th>2011</th>\n",
       "    </tr>\n",
       "    <tr>\n",
       "      <th>GEO</th>\n",
       "      <th></th>\n",
       "      <th></th>\n",
       "      <th></th>\n",
       "      <th></th>\n",
       "      <th></th>\n",
       "      <th></th>\n",
       "    </tr>\n",
       "  </thead>\n",
       "  <tbody>\n",
       "    <tr>\n",
       "      <th>Austria</th>\n",
       "      <td>10.0</td>\n",
       "      <td>7.0</td>\n",
       "      <td>11.0</td>\n",
       "      <td>7.0</td>\n",
       "      <td>8.0</td>\n",
       "      <td>8.0</td>\n",
       "    </tr>\n",
       "    <tr>\n",
       "      <th>Belgium</th>\n",
       "      <td>5.0</td>\n",
       "      <td>4.0</td>\n",
       "      <td>3.0</td>\n",
       "      <td>4.0</td>\n",
       "      <td>5.0</td>\n",
       "      <td>5.0</td>\n",
       "    </tr>\n",
       "    <tr>\n",
       "      <th>Bulgaria</th>\n",
       "      <td>21.0</td>\n",
       "      <td>21.0</td>\n",
       "      <td>20.0</td>\n",
       "      <td>20.0</td>\n",
       "      <td>22.0</td>\n",
       "      <td>22.0</td>\n",
       "    </tr>\n",
       "    <tr>\n",
       "      <th>Cyprus</th>\n",
       "      <td>2.0</td>\n",
       "      <td>2.0</td>\n",
       "      <td>2.0</td>\n",
       "      <td>2.0</td>\n",
       "      <td>2.0</td>\n",
       "      <td>3.0</td>\n",
       "    </tr>\n",
       "    <tr>\n",
       "      <th>Czech Republic</th>\n",
       "      <td>19.0</td>\n",
       "      <td>20.0</td>\n",
       "      <td>21.0</td>\n",
       "      <td>21.0</td>\n",
       "      <td>20.0</td>\n",
       "      <td>19.0</td>\n",
       "    </tr>\n",
       "  </tbody>\n",
       "</table>\n",
       "</div>"
      ],
      "text/plain": [
       "TIME            2006  2007  2008  2009  2010  2011\n",
       "GEO                                               \n",
       "Austria         10.0   7.0  11.0   7.0   8.0   8.0\n",
       "Belgium          5.0   4.0   3.0   4.0   5.0   5.0\n",
       "Bulgaria        21.0  21.0  20.0  20.0  22.0  22.0\n",
       "Cyprus           2.0   2.0   2.0   2.0   2.0   3.0\n",
       "Czech Republic  19.0  20.0  21.0  21.0  20.0  19.0"
      ]
     },
     "execution_count": 10,
     "metadata": {},
     "output_type": "execute_result"
    }
   ],
   "source": [
    "pivedu = pivedu.drop(['Euro area (13 countries)',\n",
    "                    'Euro area (15 countries)',\n",
    "                    'Euro area (17 countries)',\n",
    "                    'Euro area (18 countries)',\n",
    "                    'European Union (25 countries)',\n",
    "                    'European Union (27 countries)',\n",
    "                    'European Union (28 countries)'], axis=0)\n",
    "\n",
    "pivedu = pivedu.rename(index={'Germany (until 1990 former territory of the FRG)': 'Germany'})\n",
    "pivedu = pivedu.dropna()\n",
    "pivedu.rank(ascending=False, method='first').head()"
   ]
  },
  {
   "cell_type": "code",
   "execution_count": null,
   "id": "07791e8e",
   "metadata": {},
   "outputs": [
    {
     "data": {
      "text/plain": [
       "GEO\n",
       "Denmark    1.0\n",
       "Cyprus     2.0\n",
       "Finland    3.0\n",
       "Malta      4.0\n",
       "Belgium    5.0\n",
       "dtype: float64"
      ]
     },
     "execution_count": 11,
     "metadata": {},
     "output_type": "execute_result"
    }
   ],
   "source": [
    "totalSum = pivedu.sum(axis=1)\n",
    "totalSum.rank(ascending=False, method='dense').sort_values().head()"
   ]
  },
  {
   "cell_type": "code",
   "execution_count": 23,
   "id": "f38d761f",
   "metadata": {},
   "outputs": [
    {
     "data": {
      "image/png": "[encoded data removed]",
      "text/plain": [
       "<Figure size 1200x500 with 1 Axes>"
      ]
     },
     "metadata": {},
     "output_type": "display_data"
    }
   ],
   "source": [
    "fig = plt.figure(figsize=(12, 5), dpi=100)\n",
    "totalSum = pivedu.sum(axis=1).sort_values(ascending=False)\n",
    "totalSum.plot(kind='bar', color='#d9a0b9', alpha=0.7, title='Total sum of education spending in EU countries')\n",
    "plt.xlabel('Countries')\n",
    "plt.ylabel('Total sum of education spending')\n",
    "plt.xticks(rotation=45, ha='right')\n",
    "plt.grid(axis='y', linestyle='--', alpha=0.7)\n",
    "\n",
    "plt.savefig('educ_figdp_1.png', dpi=100, bbox_inches='tight')"
   ]
  },
  {
   "cell_type": "code",
   "execution_count": 24,
   "id": "5dbad5ee",
   "metadata": {},
   "outputs": [
    {
     "data": {
      "image/png": "[encoded data removed]",
      "text/plain": [
       "<Figure size 1200x600 with 1 Axes>"
      ]
     },
     "metadata": {},
     "output_type": "display_data"
    }
   ],
   "source": [
    "my_colors = ['#FFB3BA', '#FFDFBA', '#FFFFBA', '#BAFFC9', '#BAE1FF', '#D5BAFF']\n",
    "ax = pivedu.plot(kind='barh', stacked=True, color=my_colors, figsize=(12, 6))\n",
    "ax.legend(loc='center left', bbox_to_anchor=(1, 0.5))\n",
    "plt.savefig('Value_Time_Country.png', dpi=300, bbox_inches='tight')"
   ]
  }
 ],
 "metadata": {
  "kernelspec": {
   "display_name": "Python 3",
   "language": "python",
   "name": "python3"
  },
  "language_info": {
   "codemirror_mode": {
    "name": "ipython",
    "version": 3
   },
   "file_extension": ".py",
   "mimetype": "text/x-python",
   "name": "python",
   "nbconvert_exporter": "python",
   "pygments_lexer": "ipython3",
   "version": "3.13.2"
  }
 },
 "nbformat": 4,
 "nbformat_minor": 5
}
